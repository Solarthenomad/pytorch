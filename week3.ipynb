{
 "cells": [
  {
   "attachments": {},
   "cell_type": "markdown",
   "metadata": {},
   "source": [
    "## 3장. 주성분 분석(PCA)"
   ]
  },
  {
   "attachments": {},
   "cell_type": "markdown",
   "metadata": {},
   "source": [
    "라이브러리 불러오기"
   ]
  },
  {
   "cell_type": "code",
   "execution_count": 1,
   "metadata": {},
   "outputs": [],
   "source": [
    "import os\n",
    "import seaborn as sns\n",
    "import numpy as np\n",
    "import matplotlib.pyplot as plt\n",
    "import cv2\n"
   ]
  },
  {
   "cell_type": "code",
   "execution_count": 2,
   "metadata": {},
   "outputs": [],
   "source": [
    "from glob import glob\n",
    "import pandas as pd\n",
    "from os.path import join\n",
    "from tqdm.notebook import tqdm"
   ]
  },
  {
   "attachments": {},
   "cell_type": "markdown",
   "metadata": {},
   "source": [
    "데이터셋 불러오기"
   ]
  },
  {
   "cell_type": "code",
   "execution_count": 4,
   "metadata": {},
   "outputs": [
    {
     "name": "stdout",
     "output_type": "stream",
     "text": [
      "   height  weight\n",
      "0   170.0    70.0\n",
      "1   150.0    45.0\n",
      "2   160.0    55.0\n",
      "3   170.0    60.0\n",
      "4   170.0    80.0\n"
     ]
    },
    {
     "data": {
      "text/html": [
       "<div>\n",
       "<style scoped>\n",
       "    .dataframe tbody tr th:only-of-type {\n",
       "        vertical-align: middle;\n",
       "    }\n",
       "\n",
       "    .dataframe tbody tr th {\n",
       "        vertical-align: top;\n",
       "    }\n",
       "\n",
       "    .dataframe thead th {\n",
       "        text-align: right;\n",
       "    }\n",
       "</style>\n",
       "<table border=\"1\" class=\"dataframe\">\n",
       "  <thead>\n",
       "    <tr style=\"text-align: right;\">\n",
       "      <th></th>\n",
       "      <th>height</th>\n",
       "      <th>weight</th>\n",
       "    </tr>\n",
       "  </thead>\n",
       "  <tbody>\n",
       "    <tr>\n",
       "      <th>0</th>\n",
       "      <td>170.0</td>\n",
       "      <td>70.0</td>\n",
       "    </tr>\n",
       "    <tr>\n",
       "      <th>1</th>\n",
       "      <td>150.0</td>\n",
       "      <td>45.0</td>\n",
       "    </tr>\n",
       "    <tr>\n",
       "      <th>2</th>\n",
       "      <td>160.0</td>\n",
       "      <td>55.0</td>\n",
       "    </tr>\n",
       "    <tr>\n",
       "      <th>3</th>\n",
       "      <td>170.0</td>\n",
       "      <td>60.0</td>\n",
       "    </tr>\n",
       "    <tr>\n",
       "      <th>4</th>\n",
       "      <td>170.0</td>\n",
       "      <td>80.0</td>\n",
       "    </tr>\n",
       "  </tbody>\n",
       "</table>\n",
       "</div>"
      ],
      "text/plain": [
       "   height  weight\n",
       "0   170.0    70.0\n",
       "1   150.0    45.0\n",
       "2   160.0    55.0\n",
       "3   170.0    60.0\n",
       "4   170.0    80.0"
      ]
     },
     "execution_count": 4,
     "metadata": {},
     "output_type": "execute_result"
    }
   ],
   "source": [
    "np_data = np.array([\n",
    "    [170, 70],\n",
    "    [150,45],\n",
    "    [160,55],\n",
    "    [170,60],\n",
    "    [170,80]], dtype=np.float32)\n",
    "\n",
    "df = pd.DataFrame(np_data, columns = ['height', 'weight'])\n",
    "print(df)\n",
    "df.head()"
   ]
  },
  {
   "cell_type": "code",
   "execution_count": 6,
   "metadata": {},
   "outputs": [
    {
     "data": {
      "text/plain": [
       "<AxesSubplot:xlabel='weight', ylabel='height'>"
      ]
     },
     "execution_count": 6,
     "metadata": {},
     "output_type": "execute_result"
    },
    {
     "data": {
      "image/png": "[encoded data removed]",
      "text/plain": [
       "<Figure size 640x480 with 1 Axes>"
      ]
     },
     "metadata": {},
     "output_type": "display_data"
    }
   ],
   "source": [
    "df.plot.scatter(x='weight', y='height')\n",
    "# 산점도 그려씀 : x축은 weight, y축은 height\n"
   ]
  },
  {
   "cell_type": "code",
   "execution_count": 7,
   "metadata": {},
   "outputs": [
    {
     "name": "stdout",
     "output_type": "stream",
     "text": [
      "(5, 2)\n",
      "[164.  62.]\n"
     ]
    }
   ],
   "source": [
    "print(np_data.shape)\n",
    "print(np_data.mean(axis=0)) #전체의 평균을 구해버리는 거...근데 우리는 그렇게하면 안되겠지?"
   ]
  },
  {
   "cell_type": "code",
   "execution_count": 8,
   "metadata": {},
   "outputs": [
    {
     "name": "stdout",
     "output_type": "stream",
     "text": [
      "[[  6.   8.]\n",
      " [-14. -17.]\n",
      " [ -4.  -7.]\n",
      " [  6.  -2.]\n",
      " [  6.  18.]]\n"
     ]
    }
   ],
   "source": [
    "X = np_data - np_data.mean(axis=0)\n",
    "print(X)"
   ]
  },
  {
   "cell_type": "code",
   "execution_count": 12,
   "metadata": {},
   "outputs": [
    {
     "data": {
      "text/plain": [
       "(5, 2)"
      ]
     },
     "execution_count": 12,
     "metadata": {},
     "output_type": "execute_result"
    }
   ],
   "source": [
    "X.mean(axis=0)\n",
    "X.shape # (5,2) => (2,5) * (5,2) => (2,2)"
   ]
  },
  {
   "cell_type": "code",
   "execution_count": 13,
   "metadata": {},
   "outputs": [
    {
     "name": "stdout",
     "output_type": "stream",
     "text": [
      "[[ 64.  82.]\n",
      " [ 82. 146.]]\n"
     ]
    }
   ],
   "source": [
    "#cov 메트릭스 만들기\n",
    "cov = X.T @ X /len(X)\n",
    "print(cov)"
   ]
  },
  {
   "cell_type": "code",
   "execution_count": 14,
   "metadata": {},
   "outputs": [
    {
     "data": {
      "text/plain": [
       "array([[ 8.      ,  9.055386],\n",
       "       [ 9.055386, 12.083046]], dtype=float32)"
      ]
     },
     "execution_count": 14,
     "metadata": {},
     "output_type": "execute_result"
    }
   ],
   "source": [
    "#표준편차 구하기\n",
    "np.sqrt(cov)"
   ]
  },
  {
   "cell_type": "code",
   "execution_count": 15,
   "metadata": {},
   "outputs": [
    {
     "name": "stdout",
     "output_type": "stream",
     "text": [
      "210.0 2620.0\n",
      "210.0 2620.0\n"
     ]
    }
   ],
   "source": [
    "#eigenvalue\n",
    "#Ax = scalar_x\n",
    "#(A-스칼리_I)x = 0\n",
    "#det((A-스칼리_I) = 0\n",
    "# = 스칼라^2 - (a+d)스칼리 +ad - bc = 0\n",
    "# = 스칼라^2 - (a+d)스칼라 + det(A)\n",
    "print(cov.diagonal().sum(), np.linalg.det(cov))\n",
    "print(cov[0][0] + cov[1][1], cov[0][0]*cov[1][1] - cov[0][1]*cov[1][0])"
   ]
  },
  {
   "cell_type": "code",
   "execution_count": 16,
   "metadata": {},
   "outputs": [],
   "source": [
    "#위의 식에 대해서 근의 공식 이용\n",
    "#스칼라 = (-b + -sqrt(b^2-4ac))/2a\n",
    "#e1 = (210.0 + np.sqrt(210.0^2 - 4*2620.0 ))\n",
    "#e2 = (210.0 - np.sqrt(210.0^2 - 4*2620.0 ))\n",
    "\n",
    "e1 = (cov.diagonal().sum() + np.sqrt(cov.diagonal().sum()**2 - 4*np.linalg.det(cov)))\n",
    "e2 = (cov.diagonal().sum() - np.sqrt(cov.diagonal().sum()**2 - 4*np.linalg.det(cov)))"
   ]
  },
  {
   "cell_type": "code",
   "execution_count": 17,
   "metadata": {},
   "outputs": [
    {
     "name": "stdout",
     "output_type": "stream",
     "text": [
      "393.3575741549828 26.642425845017243\n"
     ]
    }
   ],
   "source": [
    "print(e1, e2)"
   ]
  },
  {
   "cell_type": "code",
   "execution_count": 18,
   "metadata": {},
   "outputs": [
    {
     "name": "stdout",
     "output_type": "stream",
     "text": [
      "0.9365656527499591\n",
      "0.06343434725004106\n"
     ]
    }
   ],
   "source": [
    "print(e1/(e1+e2))\n",
    "print(e2/(e1+e2))"
   ]
  },
  {
   "attachments": {},
   "cell_type": "markdown",
   "metadata": {},
   "source": [
    "### eigen vector 구하기"
   ]
  },
  {
   "cell_type": "code",
   "execution_count": 22,
   "metadata": {},
   "outputs": [
    {
     "name": "stdout",
     "output_type": "stream",
     "text": [
      "[[1. 0.]\n",
      " [0. 1.]]\n",
      "[[-329.35757415   82.        ]\n",
      " [  82.         -247.35757415]]\n"
     ]
    }
   ],
   "source": [
    "#(cov-260.0*I)x = 0 \n",
    "cov_eig = cov - e1*np.eye(2)\n",
    "print(np.eye(2))\n",
    "print(cov_eig)"
   ]
  },
  {
   "cell_type": "code",
   "execution_count": 23,
   "metadata": {},
   "outputs": [
    {
     "name": "stdout",
     "output_type": "stream",
     "text": [
      "[ -82.         -329.35757415]\n",
      "[    0.         74745.09057255]\n"
     ]
    }
   ],
   "source": [
    "#(A- 260.0)x = 0\n",
    "# (ab) @ (x1 x2).T = 0\n",
    "# a*x1 - b*x2\n",
    "# x1 = -b, x2 =a\n",
    "ev1 = np.array([-cov_eig[0][1], cov_eig[0][0]])\n",
    "print(ev1)\n",
    "print(cov_eig @ ev1)"
   ]
  },
  {
   "cell_type": "code",
   "execution_count": 24,
   "metadata": {},
   "outputs": [
    {
     "data": {
      "text/plain": [
       "array([-0.24159439, -0.97037733])"
      ]
     },
     "execution_count": 24,
     "metadata": {},
     "output_type": "execute_result"
    }
   ],
   "source": [
    "# 위에 숫자가 너무 크므로...크기를 1로 맞춰서 작성해준다.\n",
    "ev1 / np.linalg.norm(ev1)"
   ]
  },
  {
   "cell_type": "code",
   "execution_count": 20,
   "metadata": {},
   "outputs": [],
   "source": [
    "#e2 구해주기"
   ]
  },
  {
   "cell_type": "code",
   "execution_count": 26,
   "metadata": {},
   "outputs": [
    {
     "name": "stdout",
     "output_type": "stream",
     "text": [
      "[[1. 0.]\n",
      " [0. 1.]]\n",
      "[[ 37.35757415  82.        ]\n",
      " [ 82.         119.35757415]]\n",
      "[-82.          37.35757415]\n",
      "[    0.         -2265.09057255]\n"
     ]
    }
   ],
   "source": [
    "cov_eig = cov - e2*np.eye(2)\n",
    "print(np.eye(2))\n",
    "print(cov_eig)\n",
    "ev2 = np.array([-cov_eig[0][1], cov_eig[0][0]])\n",
    "print(ev2)\n",
    "print(cov_eig @ ev2)"
   ]
  },
  {
   "cell_type": "code",
   "execution_count": 27,
   "metadata": {},
   "outputs": [
    {
     "name": "stdout",
     "output_type": "stream",
     "text": [
      "393.3575741549828 [-82.          37.35757415] [-0.91001143  0.41458316]\n",
      "26.642425845017243 [-82.          37.35757415] [-0.91001143  0.41458316]\n"
     ]
    }
   ],
   "source": [
    "print(e1, ev1, ev1 / np.linalg.norm(ev1))\n",
    "print(e2, ev2 , ev2 / np.linalg.norm(ev2))"
   ]
  },
  {
   "cell_type": "code",
   "execution_count": 28,
   "metadata": {},
   "outputs": [
    {
     "data": {
      "text/plain": [
       "90.10875843526553"
      ]
     },
     "execution_count": 28,
     "metadata": {},
     "output_type": "execute_result"
    }
   ],
   "source": [
    "np.linalg.norm(ev1) # 방향은 일치 시키고 크기를 줄여주자"
   ]
  },
  {
   "cell_type": "code",
   "execution_count": 29,
   "metadata": {},
   "outputs": [
    {
     "data": {
      "text/plain": [
       "array([-0.91001143,  0.41458316])"
      ]
     },
     "execution_count": 29,
     "metadata": {},
     "output_type": "execute_result"
    }
   ],
   "source": [
    "ev1 / np.linalg.norm(ev1)"
   ]
  },
  {
   "cell_type": "code",
   "execution_count": 30,
   "metadata": {},
   "outputs": [],
   "source": [
    "e_value, e_vector = np.linalg.eig(cov)"
   ]
  },
  {
   "cell_type": "code",
   "execution_count": 31,
   "metadata": {},
   "outputs": [
    {
     "data": {
      "text/plain": [
       "array([ 13.321213, 196.67879 ], dtype=float32)"
      ]
     },
     "execution_count": 31,
     "metadata": {},
     "output_type": "execute_result"
    }
   ],
   "source": [
    "e_value"
   ]
  },
  {
   "cell_type": "code",
   "execution_count": 32,
   "metadata": {},
   "outputs": [
    {
     "data": {
      "text/plain": [
       "array([[-0.8506508,  0.5257311],\n",
       "       [-0.5257311, -0.8506508]], dtype=float32)"
      ]
     },
     "execution_count": 32,
     "metadata": {},
     "output_type": "execute_result"
    }
   ],
   "source": [
    "e_vector.T"
   ]
  },
  {
   "cell_type": "code",
   "execution_count": null,
   "metadata": {},
   "outputs": [],
   "source": []
  }
 ],
 "metadata": {
  "kernelspec": {
   "display_name": "base",
   "language": "python",
   "name": "python3"
  },
  "language_info": {
   "codemirror_mode": {
    "name": "ipython",
    "version": 3
   },
   "file_extension": ".py",
   "mimetype": "text/x-python",
   "name": "python",
   "nbconvert_exporter": "python",
   "pygments_lexer": "ipython3",
   "version": "3.9.13"
  },
  "orig_nbformat": 4
 },
 "nbformat": 4,
 "nbformat_minor": 2
}
