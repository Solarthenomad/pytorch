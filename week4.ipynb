{
 "cells": [
  {
   "cell_type": "code",
   "execution_count": 1,
   "metadata": {},
   "outputs": [],
   "source": [
    "### 라이브러리 불러오기 "
   ]
  },
  {
   "cell_type": "code",
   "execution_count": 2,
   "metadata": {},
   "outputs": [
    {
     "name": "stdout",
     "output_type": "stream",
     "text": [
      "Defaulting to user installation because normal site-packages is not writeable\n",
      "Requirement already satisfied: tqdm in c:\\users\\trixy\\appdata\\roaming\\python\\python310\\site-packages (4.65.0)\n",
      "Requirement already satisfied: colorama in c:\\users\\trixy\\appdata\\roaming\\python\\python310\\site-packages (from tqdm) (0.4.6)\n"
     ]
    },
    {
     "name": "stderr",
     "output_type": "stream",
     "text": [
      "\n",
      "[notice] A new release of pip is available: 23.0.1 -> 23.1.1\n",
      "[notice] To update, run: python.exe -m pip install --upgrade pip\n"
     ]
    }
   ],
   "source": [
    "!pip install tqdm"
   ]
  },
  {
   "cell_type": "code",
   "execution_count": 4,
   "metadata": {},
   "outputs": [],
   "source": [
    "import pandas as pd\n",
    "import matplotlib.pyplot as plt\n",
    "import matplotlib\n",
    "from PIL import Image\n",
    "import seaborn as sns\n",
    "import time\n",
    "import copy\n",
    "from glob import glob\n",
    "import cv2\n",
    "import shutil\n",
    "import os\n",
    "from tqdm.notebook import tqdm\n",
    "import numpy as np\n",
    "\n",
    "\n",
    "\n"
   ]
  },
  {
   "cell_type": "code",
   "execution_count": 2,
   "metadata": {},
   "outputs": [],
   "source": [
    "from os.path import join"
   ]
  },
  {
   "cell_type": "code",
   "execution_count": 4,
   "metadata": {},
   "outputs": [
    {
     "name": "stdout",
     "output_type": "stream",
     "text": [
      "Defaulting to user installation because normal site-packages is not writeable\n",
      "Requirement already satisfied: scikit-learn in c:\\users\\trixy\\appdata\\roaming\\python\\python310\\site-packages (1.2.2)\n",
      "Requirement already satisfied: scipy>=1.3.2 in c:\\users\\trixy\\appdata\\roaming\\python\\python310\\site-packages (from scikit-learn) (1.10.1)\n",
      "Requirement already satisfied: joblib>=1.1.1 in c:\\users\\trixy\\appdata\\roaming\\python\\python310\\site-packages (from scikit-learn) (1.2.0)\n",
      "Requirement already satisfied: numpy>=1.17.3 in c:\\users\\trixy\\appdata\\roaming\\python\\python310\\site-packages (from scikit-learn) (1.24.2)\n",
      "Requirement already satisfied: threadpoolctl>=2.0.0 in c:\\users\\trixy\\appdata\\roaming\\python\\python310\\site-packages (from scikit-learn) (3.1.0)\n"
     ]
    },
    {
     "name": "stderr",
     "output_type": "stream",
     "text": [
      "\n",
      "[notice] A new release of pip is available: 23.0.1 -> 23.1.1\n",
      "[notice] To update, run: python.exe -m pip install --upgrade pip\n"
     ]
    }
   ],
   "source": [
    "!pip install scikit-learn"
   ]
  },
  {
   "cell_type": "code",
   "execution_count": 5,
   "metadata": {},
   "outputs": [],
   "source": [
    "from sklearn.preprocessing import StandardScaler\n",
    "from sklearn.preprocessing import normalize\n",
    "from sklearn.decomposition import PCA"
   ]
  },
  {
   "attachments": {},
   "cell_type": "markdown",
   "metadata": {},
   "source": [
    "데이터셋 중 하나의 데이터 테스트로 하나 가져와보기 "
   ]
  },
  {
   "cell_type": "code",
   "execution_count": 6,
   "metadata": {},
   "outputs": [
    {
     "name": "stdout",
     "output_type": "stream",
     "text": [
      "['data/pca_data1/test\\\\Ariel_Sharon\\\\00024.png', 'data/pca_data1/test\\\\Ariel_Sharon\\\\00052.png', 'data/pca_data1/test\\\\Ariel_Sharon\\\\00081.png', 'data/pca_data1/test\\\\Ariel_Sharon\\\\00123.png', 'data/pca_data1/test\\\\Ariel_Sharon\\\\00157.png', 'data/pca_data1/test\\\\Ariel_Sharon\\\\00168.png', 'data/pca_data1/test\\\\Ariel_Sharon\\\\00209.png', 'data/pca_data1/test\\\\Ariel_Sharon\\\\00217.png', 'data/pca_data1/test\\\\Ariel_Sharon\\\\00218.png', 'data/pca_data1/test\\\\Ariel_Sharon\\\\00233.png', 'data/pca_data1/test\\\\Ariel_Sharon\\\\00245.png', 'data/pca_data1/test\\\\Ariel_Sharon\\\\00285.png', 'data/pca_data1/test\\\\Ariel_Sharon\\\\00295.png', 'data/pca_data1/test\\\\Colin_Powell\\\\00007.png', 'data/pca_data1/test\\\\Colin_Powell\\\\00020.png', 'data/pca_data1/test\\\\Colin_Powell\\\\00025.png', 'data/pca_data1/test\\\\Colin_Powell\\\\00039.png', 'data/pca_data1/test\\\\Colin_Powell\\\\00041.png', 'data/pca_data1/test\\\\Colin_Powell\\\\00043.png', 'data/pca_data1/test\\\\Colin_Powell\\\\00044.png', 'data/pca_data1/test\\\\Colin_Powell\\\\00045.png', 'data/pca_data1/test\\\\Colin_Powell\\\\00056.png', 'data/pca_data1/test\\\\Colin_Powell\\\\00060.png', 'data/pca_data1/test\\\\Colin_Powell\\\\00061.png', 'data/pca_data1/test\\\\Colin_Powell\\\\00062.png', 'data/pca_data1/test\\\\Colin_Powell\\\\00068.png', 'data/pca_data1/test\\\\Colin_Powell\\\\00076.png', 'data/pca_data1/test\\\\Colin_Powell\\\\00094.png', 'data/pca_data1/test\\\\Colin_Powell\\\\00096.png', 'data/pca_data1/test\\\\Colin_Powell\\\\00097.png', 'data/pca_data1/test\\\\Colin_Powell\\\\00101.png', 'data/pca_data1/test\\\\Colin_Powell\\\\00103.png', 'data/pca_data1/test\\\\Colin_Powell\\\\00109.png', 'data/pca_data1/test\\\\Colin_Powell\\\\00111.png', 'data/pca_data1/test\\\\Colin_Powell\\\\00115.png', 'data/pca_data1/test\\\\Colin_Powell\\\\00118.png', 'data/pca_data1/test\\\\Colin_Powell\\\\00120.png', 'data/pca_data1/test\\\\Colin_Powell\\\\00128.png', 'data/pca_data1/test\\\\Colin_Powell\\\\00129.png', 'data/pca_data1/test\\\\Colin_Powell\\\\00138.png', 'data/pca_data1/test\\\\Colin_Powell\\\\00143.png', 'data/pca_data1/test\\\\Colin_Powell\\\\00146.png', 'data/pca_data1/test\\\\Colin_Powell\\\\00149.png', 'data/pca_data1/test\\\\Colin_Powell\\\\00151.png', 'data/pca_data1/test\\\\Colin_Powell\\\\00152.png', 'data/pca_data1/test\\\\Colin_Powell\\\\00158.png', 'data/pca_data1/test\\\\Colin_Powell\\\\00163.png', 'data/pca_data1/test\\\\Colin_Powell\\\\00167.png', 'data/pca_data1/test\\\\Colin_Powell\\\\00170.png', 'data/pca_data1/test\\\\Colin_Powell\\\\00171.png', 'data/pca_data1/test\\\\Colin_Powell\\\\00173.png', 'data/pca_data1/test\\\\Colin_Powell\\\\00202.png', 'data/pca_data1/test\\\\Colin_Powell\\\\00208.png', 'data/pca_data1/test\\\\Colin_Powell\\\\00219.png', 'data/pca_data1/test\\\\Colin_Powell\\\\00222.png', 'data/pca_data1/test\\\\Colin_Powell\\\\00223.png', 'data/pca_data1/test\\\\Colin_Powell\\\\00228.png', 'data/pca_data1/test\\\\Colin_Powell\\\\00232.png', 'data/pca_data1/test\\\\Colin_Powell\\\\00235.png', 'data/pca_data1/test\\\\Colin_Powell\\\\00257.png', 'data/pca_data1/test\\\\Colin_Powell\\\\00263.png', 'data/pca_data1/test\\\\Colin_Powell\\\\00267.png', 'data/pca_data1/test\\\\Colin_Powell\\\\00270.png', 'data/pca_data1/test\\\\Colin_Powell\\\\00271.png', 'data/pca_data1/test\\\\Colin_Powell\\\\00280.png', 'data/pca_data1/test\\\\Colin_Powell\\\\00284.png', 'data/pca_data1/test\\\\Colin_Powell\\\\00293.png', 'data/pca_data1/test\\\\Colin_Powell\\\\00297.png', 'data/pca_data1/test\\\\Colin_Powell\\\\00304.png', 'data/pca_data1/test\\\\Colin_Powell\\\\00306.png', 'data/pca_data1/test\\\\Colin_Powell\\\\00308.png', 'data/pca_data1/test\\\\Colin_Powell\\\\00312.png', 'data/pca_data1/test\\\\Colin_Powell\\\\00317.png', 'data/pca_data1/test\\\\Donald_Rumsfeld\\\\00021.png', 'data/pca_data1/test\\\\Donald_Rumsfeld\\\\00023.png', 'data/pca_data1/test\\\\Donald_Rumsfeld\\\\00026.png', 'data/pca_data1/test\\\\Donald_Rumsfeld\\\\00030.png', 'data/pca_data1/test\\\\Donald_Rumsfeld\\\\00048.png', 'data/pca_data1/test\\\\Donald_Rumsfeld\\\\00055.png', 'data/pca_data1/test\\\\Donald_Rumsfeld\\\\00075.png', 'data/pca_data1/test\\\\Donald_Rumsfeld\\\\00134.png', 'data/pca_data1/test\\\\Donald_Rumsfeld\\\\00140.png', 'data/pca_data1/test\\\\Donald_Rumsfeld\\\\00141.png', 'data/pca_data1/test\\\\Donald_Rumsfeld\\\\00177.png', 'data/pca_data1/test\\\\Donald_Rumsfeld\\\\00178.png', 'data/pca_data1/test\\\\Donald_Rumsfeld\\\\00183.png', 'data/pca_data1/test\\\\Donald_Rumsfeld\\\\00189.png', 'data/pca_data1/test\\\\Donald_Rumsfeld\\\\00191.png', 'data/pca_data1/test\\\\Donald_Rumsfeld\\\\00193.png', 'data/pca_data1/test\\\\Donald_Rumsfeld\\\\00201.png', 'data/pca_data1/test\\\\Donald_Rumsfeld\\\\00203.png', 'data/pca_data1/test\\\\Donald_Rumsfeld\\\\00207.png', 'data/pca_data1/test\\\\Donald_Rumsfeld\\\\00242.png', 'data/pca_data1/test\\\\Donald_Rumsfeld\\\\00252.png', 'data/pca_data1/test\\\\Donald_Rumsfeld\\\\00256.png', 'data/pca_data1/test\\\\Donald_Rumsfeld\\\\00259.png', 'data/pca_data1/test\\\\Donald_Rumsfeld\\\\00260.png', 'data/pca_data1/test\\\\Donald_Rumsfeld\\\\00281.png', 'data/pca_data1/test\\\\Donald_Rumsfeld\\\\00303.png', 'data/pca_data1/test\\\\Donald_Rumsfeld\\\\00321.png', 'data/pca_data1/test\\\\George_W_Bush\\\\00000.png', 'data/pca_data1/test\\\\George_W_Bush\\\\00001.png', 'data/pca_data1/test\\\\George_W_Bush\\\\00003.png', 'data/pca_data1/test\\\\George_W_Bush\\\\00004.png', 'data/pca_data1/test\\\\George_W_Bush\\\\00005.png', 'data/pca_data1/test\\\\George_W_Bush\\\\00008.png', 'data/pca_data1/test\\\\George_W_Bush\\\\00009.png', 'data/pca_data1/test\\\\George_W_Bush\\\\00010.png', 'data/pca_data1/test\\\\George_W_Bush\\\\00011.png', 'data/pca_data1/test\\\\George_W_Bush\\\\00012.png', 'data/pca_data1/test\\\\George_W_Bush\\\\00014.png', 'data/pca_data1/test\\\\George_W_Bush\\\\00015.png', 'data/pca_data1/test\\\\George_W_Bush\\\\00016.png', 'data/pca_data1/test\\\\George_W_Bush\\\\00017.png', 'data/pca_data1/test\\\\George_W_Bush\\\\00018.png', 'data/pca_data1/test\\\\George_W_Bush\\\\00022.png', 'data/pca_data1/test\\\\George_W_Bush\\\\00027.png', 'data/pca_data1/test\\\\George_W_Bush\\\\00028.png', 'data/pca_data1/test\\\\George_W_Bush\\\\00029.png', 'data/pca_data1/test\\\\George_W_Bush\\\\00031.png', 'data/pca_data1/test\\\\George_W_Bush\\\\00032.png', 'data/pca_data1/test\\\\George_W_Bush\\\\00033.png', 'data/pca_data1/test\\\\George_W_Bush\\\\00034.png', 'data/pca_data1/test\\\\George_W_Bush\\\\00035.png', 'data/pca_data1/test\\\\George_W_Bush\\\\00036.png', 'data/pca_data1/test\\\\George_W_Bush\\\\00037.png', 'data/pca_data1/test\\\\George_W_Bush\\\\00038.png', 'data/pca_data1/test\\\\George_W_Bush\\\\00040.png', 'data/pca_data1/test\\\\George_W_Bush\\\\00042.png', 'data/pca_data1/test\\\\George_W_Bush\\\\00047.png', 'data/pca_data1/test\\\\George_W_Bush\\\\00049.png', 'data/pca_data1/test\\\\George_W_Bush\\\\00050.png', 'data/pca_data1/test\\\\George_W_Bush\\\\00051.png', 'data/pca_data1/test\\\\George_W_Bush\\\\00053.png', 'data/pca_data1/test\\\\George_W_Bush\\\\00057.png', 'data/pca_data1/test\\\\George_W_Bush\\\\00059.png', 'data/pca_data1/test\\\\George_W_Bush\\\\00064.png', 'data/pca_data1/test\\\\George_W_Bush\\\\00069.png', 'data/pca_data1/test\\\\George_W_Bush\\\\00072.png', 'data/pca_data1/test\\\\George_W_Bush\\\\00073.png', 'data/pca_data1/test\\\\George_W_Bush\\\\00074.png', 'data/pca_data1/test\\\\George_W_Bush\\\\00080.png', 'data/pca_data1/test\\\\George_W_Bush\\\\00083.png', 'data/pca_data1/test\\\\George_W_Bush\\\\00084.png', 'data/pca_data1/test\\\\George_W_Bush\\\\00085.png', 'data/pca_data1/test\\\\George_W_Bush\\\\00086.png', 'data/pca_data1/test\\\\George_W_Bush\\\\00087.png', 'data/pca_data1/test\\\\George_W_Bush\\\\00088.png', 'data/pca_data1/test\\\\George_W_Bush\\\\00089.png', 'data/pca_data1/test\\\\George_W_Bush\\\\00090.png', 'data/pca_data1/test\\\\George_W_Bush\\\\00092.png', 'data/pca_data1/test\\\\George_W_Bush\\\\00100.png', 'data/pca_data1/test\\\\George_W_Bush\\\\00102.png', 'data/pca_data1/test\\\\George_W_Bush\\\\00104.png', 'data/pca_data1/test\\\\George_W_Bush\\\\00105.png', 'data/pca_data1/test\\\\George_W_Bush\\\\00106.png', 'data/pca_data1/test\\\\George_W_Bush\\\\00107.png', 'data/pca_data1/test\\\\George_W_Bush\\\\00108.png', 'data/pca_data1/test\\\\George_W_Bush\\\\00112.png', 'data/pca_data1/test\\\\George_W_Bush\\\\00113.png', 'data/pca_data1/test\\\\George_W_Bush\\\\00114.png', 'data/pca_data1/test\\\\George_W_Bush\\\\00116.png', 'data/pca_data1/test\\\\George_W_Bush\\\\00119.png', 'data/pca_data1/test\\\\George_W_Bush\\\\00121.png', 'data/pca_data1/test\\\\George_W_Bush\\\\00122.png', 'data/pca_data1/test\\\\George_W_Bush\\\\00124.png', 'data/pca_data1/test\\\\George_W_Bush\\\\00127.png', 'data/pca_data1/test\\\\George_W_Bush\\\\00136.png', 'data/pca_data1/test\\\\George_W_Bush\\\\00137.png', 'data/pca_data1/test\\\\George_W_Bush\\\\00144.png', 'data/pca_data1/test\\\\George_W_Bush\\\\00147.png', 'data/pca_data1/test\\\\George_W_Bush\\\\00153.png', 'data/pca_data1/test\\\\George_W_Bush\\\\00154.png', 'data/pca_data1/test\\\\George_W_Bush\\\\00155.png', 'data/pca_data1/test\\\\George_W_Bush\\\\00159.png', 'data/pca_data1/test\\\\George_W_Bush\\\\00164.png', 'data/pca_data1/test\\\\George_W_Bush\\\\00169.png', 'data/pca_data1/test\\\\George_W_Bush\\\\00176.png', 'data/pca_data1/test\\\\George_W_Bush\\\\00180.png', 'data/pca_data1/test\\\\George_W_Bush\\\\00181.png', 'data/pca_data1/test\\\\George_W_Bush\\\\00182.png', 'data/pca_data1/test\\\\George_W_Bush\\\\00184.png', 'data/pca_data1/test\\\\George_W_Bush\\\\00185.png', 'data/pca_data1/test\\\\George_W_Bush\\\\00186.png', 'data/pca_data1/test\\\\George_W_Bush\\\\00187.png', 'data/pca_data1/test\\\\George_W_Bush\\\\00188.png', 'data/pca_data1/test\\\\George_W_Bush\\\\00190.png', 'data/pca_data1/test\\\\George_W_Bush\\\\00192.png', 'data/pca_data1/test\\\\George_W_Bush\\\\00195.png', 'data/pca_data1/test\\\\George_W_Bush\\\\00196.png', 'data/pca_data1/test\\\\George_W_Bush\\\\00198.png', 'data/pca_data1/test\\\\George_W_Bush\\\\00200.png', 'data/pca_data1/test\\\\George_W_Bush\\\\00204.png', 'data/pca_data1/test\\\\George_W_Bush\\\\00205.png', 'data/pca_data1/test\\\\George_W_Bush\\\\00210.png', 'data/pca_data1/test\\\\George_W_Bush\\\\00212.png', 'data/pca_data1/test\\\\George_W_Bush\\\\00213.png', 'data/pca_data1/test\\\\George_W_Bush\\\\00214.png', 'data/pca_data1/test\\\\George_W_Bush\\\\00215.png', 'data/pca_data1/test\\\\George_W_Bush\\\\00216.png', 'data/pca_data1/test\\\\George_W_Bush\\\\00220.png', 'data/pca_data1/test\\\\George_W_Bush\\\\00221.png', 'data/pca_data1/test\\\\George_W_Bush\\\\00225.png', 'data/pca_data1/test\\\\George_W_Bush\\\\00226.png', 'data/pca_data1/test\\\\George_W_Bush\\\\00227.png', 'data/pca_data1/test\\\\George_W_Bush\\\\00229.png', 'data/pca_data1/test\\\\George_W_Bush\\\\00230.png', 'data/pca_data1/test\\\\George_W_Bush\\\\00231.png', 'data/pca_data1/test\\\\George_W_Bush\\\\00234.png', 'data/pca_data1/test\\\\George_W_Bush\\\\00237.png', 'data/pca_data1/test\\\\George_W_Bush\\\\00238.png', 'data/pca_data1/test\\\\George_W_Bush\\\\00239.png', 'data/pca_data1/test\\\\George_W_Bush\\\\00240.png', 'data/pca_data1/test\\\\George_W_Bush\\\\00244.png', 'data/pca_data1/test\\\\George_W_Bush\\\\00246.png', 'data/pca_data1/test\\\\George_W_Bush\\\\00247.png', 'data/pca_data1/test\\\\George_W_Bush\\\\00248.png', 'data/pca_data1/test\\\\George_W_Bush\\\\00251.png', 'data/pca_data1/test\\\\George_W_Bush\\\\00254.png', 'data/pca_data1/test\\\\George_W_Bush\\\\00261.png', 'data/pca_data1/test\\\\George_W_Bush\\\\00264.png', 'data/pca_data1/test\\\\George_W_Bush\\\\00266.png', 'data/pca_data1/test\\\\George_W_Bush\\\\00272.png', 'data/pca_data1/test\\\\George_W_Bush\\\\00273.png', 'data/pca_data1/test\\\\George_W_Bush\\\\00275.png', 'data/pca_data1/test\\\\George_W_Bush\\\\00277.png', 'data/pca_data1/test\\\\George_W_Bush\\\\00278.png', 'data/pca_data1/test\\\\George_W_Bush\\\\00279.png', 'data/pca_data1/test\\\\George_W_Bush\\\\00282.png', 'data/pca_data1/test\\\\George_W_Bush\\\\00283.png', 'data/pca_data1/test\\\\George_W_Bush\\\\00286.png', 'data/pca_data1/test\\\\George_W_Bush\\\\00287.png', 'data/pca_data1/test\\\\George_W_Bush\\\\00288.png', 'data/pca_data1/test\\\\George_W_Bush\\\\00291.png', 'data/pca_data1/test\\\\George_W_Bush\\\\00294.png', 'data/pca_data1/test\\\\George_W_Bush\\\\00298.png', 'data/pca_data1/test\\\\George_W_Bush\\\\00300.png', 'data/pca_data1/test\\\\George_W_Bush\\\\00305.png', 'data/pca_data1/test\\\\George_W_Bush\\\\00307.png', 'data/pca_data1/test\\\\George_W_Bush\\\\00309.png', 'data/pca_data1/test\\\\George_W_Bush\\\\00310.png', 'data/pca_data1/test\\\\George_W_Bush\\\\00311.png', 'data/pca_data1/test\\\\George_W_Bush\\\\00314.png', 'data/pca_data1/test\\\\George_W_Bush\\\\00315.png', 'data/pca_data1/test\\\\George_W_Bush\\\\00318.png', 'data/pca_data1/test\\\\George_W_Bush\\\\00319.png', 'data/pca_data1/test\\\\Gerhard_Schroeder\\\\00006.png', 'data/pca_data1/test\\\\Gerhard_Schroeder\\\\00019.png', 'data/pca_data1/test\\\\Gerhard_Schroeder\\\\00046.png', 'data/pca_data1/test\\\\Gerhard_Schroeder\\\\00063.png', 'data/pca_data1/test\\\\Gerhard_Schroeder\\\\00067.png', 'data/pca_data1/test\\\\Gerhard_Schroeder\\\\00078.png', 'data/pca_data1/test\\\\Gerhard_Schroeder\\\\00079.png', 'data/pca_data1/test\\\\Gerhard_Schroeder\\\\00082.png', 'data/pca_data1/test\\\\Gerhard_Schroeder\\\\00093.png', 'data/pca_data1/test\\\\Gerhard_Schroeder\\\\00110.png', 'data/pca_data1/test\\\\Gerhard_Schroeder\\\\00117.png', 'data/pca_data1/test\\\\Gerhard_Schroeder\\\\00125.png', 'data/pca_data1/test\\\\Gerhard_Schroeder\\\\00126.png', 'data/pca_data1/test\\\\Gerhard_Schroeder\\\\00135.png', 'data/pca_data1/test\\\\Gerhard_Schroeder\\\\00179.png', 'data/pca_data1/test\\\\Gerhard_Schroeder\\\\00241.png', 'data/pca_data1/test\\\\Gerhard_Schroeder\\\\00243.png', 'data/pca_data1/test\\\\Gerhard_Schroeder\\\\00250.png', 'data/pca_data1/test\\\\Gerhard_Schroeder\\\\00255.png', 'data/pca_data1/test\\\\Gerhard_Schroeder\\\\00265.png', 'data/pca_data1/test\\\\Gerhard_Schroeder\\\\00268.png', 'data/pca_data1/test\\\\Gerhard_Schroeder\\\\00289.png', 'data/pca_data1/test\\\\Gerhard_Schroeder\\\\00290.png', 'data/pca_data1/test\\\\Gerhard_Schroeder\\\\00296.png', 'data/pca_data1/test\\\\Gerhard_Schroeder\\\\00299.png', 'data/pca_data1/test\\\\Hugo_Chavez\\\\00058.png', 'data/pca_data1/test\\\\Hugo_Chavez\\\\00065.png', 'data/pca_data1/test\\\\Hugo_Chavez\\\\00070.png', 'data/pca_data1/test\\\\Hugo_Chavez\\\\00095.png', 'data/pca_data1/test\\\\Hugo_Chavez\\\\00142.png', 'data/pca_data1/test\\\\Hugo_Chavez\\\\00145.png', 'data/pca_data1/test\\\\Hugo_Chavez\\\\00150.png', 'data/pca_data1/test\\\\Hugo_Chavez\\\\00161.png', 'data/pca_data1/test\\\\Hugo_Chavez\\\\00162.png', 'data/pca_data1/test\\\\Hugo_Chavez\\\\00165.png', 'data/pca_data1/test\\\\Hugo_Chavez\\\\00166.png', 'data/pca_data1/test\\\\Hugo_Chavez\\\\00174.png', 'data/pca_data1/test\\\\Hugo_Chavez\\\\00211.png', 'data/pca_data1/test\\\\Hugo_Chavez\\\\00292.png', 'data/pca_data1/test\\\\Hugo_Chavez\\\\00320.png', 'data/pca_data1/test\\\\Tony_Blair\\\\00002.png', 'data/pca_data1/test\\\\Tony_Blair\\\\00013.png', 'data/pca_data1/test\\\\Tony_Blair\\\\00054.png', 'data/pca_data1/test\\\\Tony_Blair\\\\00066.png', 'data/pca_data1/test\\\\Tony_Blair\\\\00071.png', 'data/pca_data1/test\\\\Tony_Blair\\\\00077.png', 'data/pca_data1/test\\\\Tony_Blair\\\\00091.png', 'data/pca_data1/test\\\\Tony_Blair\\\\00098.png', 'data/pca_data1/test\\\\Tony_Blair\\\\00099.png', 'data/pca_data1/test\\\\Tony_Blair\\\\00130.png', 'data/pca_data1/test\\\\Tony_Blair\\\\00131.png', 'data/pca_data1/test\\\\Tony_Blair\\\\00132.png', 'data/pca_data1/test\\\\Tony_Blair\\\\00133.png', 'data/pca_data1/test\\\\Tony_Blair\\\\00139.png', 'data/pca_data1/test\\\\Tony_Blair\\\\00148.png', 'data/pca_data1/test\\\\Tony_Blair\\\\00156.png', 'data/pca_data1/test\\\\Tony_Blair\\\\00160.png', 'data/pca_data1/test\\\\Tony_Blair\\\\00172.png', 'data/pca_data1/test\\\\Tony_Blair\\\\00175.png', 'data/pca_data1/test\\\\Tony_Blair\\\\00194.png', 'data/pca_data1/test\\\\Tony_Blair\\\\00197.png', 'data/pca_data1/test\\\\Tony_Blair\\\\00199.png', 'data/pca_data1/test\\\\Tony_Blair\\\\00206.png', 'data/pca_data1/test\\\\Tony_Blair\\\\00224.png', 'data/pca_data1/test\\\\Tony_Blair\\\\00236.png', 'data/pca_data1/test\\\\Tony_Blair\\\\00249.png', 'data/pca_data1/test\\\\Tony_Blair\\\\00253.png', 'data/pca_data1/test\\\\Tony_Blair\\\\00258.png', 'data/pca_data1/test\\\\Tony_Blair\\\\00262.png', 'data/pca_data1/test\\\\Tony_Blair\\\\00269.png', 'data/pca_data1/test\\\\Tony_Blair\\\\00274.png', 'data/pca_data1/test\\\\Tony_Blair\\\\00276.png', 'data/pca_data1/test\\\\Tony_Blair\\\\00301.png', 'data/pca_data1/test\\\\Tony_Blair\\\\00302.png', 'data/pca_data1/test\\\\Tony_Blair\\\\00313.png', 'data/pca_data1/test\\\\Tony_Blair\\\\00316.png']\n",
      "['data/pca_data1/train\\\\Ariel_Sharon\\\\00026.png', 'data/pca_data1/train\\\\Ariel_Sharon\\\\00033.png', 'data/pca_data1/train\\\\Ariel_Sharon\\\\00041.png', 'data/pca_data1/train\\\\Ariel_Sharon\\\\00055.png', 'data/pca_data1/train\\\\Ariel_Sharon\\\\00064.png', 'data/pca_data1/train\\\\Ariel_Sharon\\\\00067.png', 'data/pca_data1/train\\\\Ariel_Sharon\\\\00083.png', 'data/pca_data1/train\\\\Ariel_Sharon\\\\00099.png', 'data/pca_data1/train\\\\Ariel_Sharon\\\\00132.png', 'data/pca_data1/train\\\\Ariel_Sharon\\\\00156.png', 'data/pca_data1/train\\\\Ariel_Sharon\\\\00176.png', 'data/pca_data1/train\\\\Ariel_Sharon\\\\00189.png', 'data/pca_data1/train\\\\Ariel_Sharon\\\\00190.png', 'data/pca_data1/train\\\\Ariel_Sharon\\\\00195.png', 'data/pca_data1/train\\\\Ariel_Sharon\\\\00214.png', 'data/pca_data1/train\\\\Ariel_Sharon\\\\00220.png', 'data/pca_data1/train\\\\Ariel_Sharon\\\\00260.png', 'data/pca_data1/train\\\\Ariel_Sharon\\\\00261.png', 'data/pca_data1/train\\\\Ariel_Sharon\\\\00263.png', 'data/pca_data1/train\\\\Ariel_Sharon\\\\00273.png', 'data/pca_data1/train\\\\Ariel_Sharon\\\\00285.png', 'data/pca_data1/train\\\\Ariel_Sharon\\\\00286.png', 'data/pca_data1/train\\\\Ariel_Sharon\\\\00289.png', 'data/pca_data1/train\\\\Ariel_Sharon\\\\00292.png', 'data/pca_data1/train\\\\Ariel_Sharon\\\\00304.png', 'data/pca_data1/train\\\\Ariel_Sharon\\\\00316.png', 'data/pca_data1/train\\\\Ariel_Sharon\\\\00329.png', 'data/pca_data1/train\\\\Ariel_Sharon\\\\00397.png', 'data/pca_data1/train\\\\Ariel_Sharon\\\\00399.png', 'data/pca_data1/train\\\\Ariel_Sharon\\\\00411.png', 'data/pca_data1/train\\\\Ariel_Sharon\\\\00413.png', 'data/pca_data1/train\\\\Ariel_Sharon\\\\00423.png', 'data/pca_data1/train\\\\Ariel_Sharon\\\\00462.png', 'data/pca_data1/train\\\\Ariel_Sharon\\\\00469.png', 'data/pca_data1/train\\\\Ariel_Sharon\\\\00485.png', 'data/pca_data1/train\\\\Ariel_Sharon\\\\00487.png', 'data/pca_data1/train\\\\Ariel_Sharon\\\\00529.png', 'data/pca_data1/train\\\\Ariel_Sharon\\\\00530.png', 'data/pca_data1/train\\\\Ariel_Sharon\\\\00546.png', 'data/pca_data1/train\\\\Ariel_Sharon\\\\00574.png', 'data/pca_data1/train\\\\Ariel_Sharon\\\\00575.png', 'data/pca_data1/train\\\\Ariel_Sharon\\\\00576.png', 'data/pca_data1/train\\\\Ariel_Sharon\\\\00607.png', 'data/pca_data1/train\\\\Ariel_Sharon\\\\00608.png', 'data/pca_data1/train\\\\Ariel_Sharon\\\\00609.png', 'data/pca_data1/train\\\\Ariel_Sharon\\\\00616.png', 'data/pca_data1/train\\\\Ariel_Sharon\\\\00618.png', 'data/pca_data1/train\\\\Ariel_Sharon\\\\00631.png', 'data/pca_data1/train\\\\Ariel_Sharon\\\\00651.png', 'data/pca_data1/train\\\\Ariel_Sharon\\\\00656.png', 'data/pca_data1/train\\\\Ariel_Sharon\\\\00662.png', 'data/pca_data1/train\\\\Ariel_Sharon\\\\00677.png', 'data/pca_data1/train\\\\Ariel_Sharon\\\\00710.png', 'data/pca_data1/train\\\\Ariel_Sharon\\\\00724.png', 'data/pca_data1/train\\\\Ariel_Sharon\\\\00729.png', 'data/pca_data1/train\\\\Ariel_Sharon\\\\00743.png', 'data/pca_data1/train\\\\Ariel_Sharon\\\\00752.png', 'data/pca_data1/train\\\\Ariel_Sharon\\\\00763.png', 'data/pca_data1/train\\\\Ariel_Sharon\\\\00799.png', 'data/pca_data1/train\\\\Ariel_Sharon\\\\00825.png', 'data/pca_data1/train\\\\Ariel_Sharon\\\\00839.png', 'data/pca_data1/train\\\\Ariel_Sharon\\\\00844.png', 'data/pca_data1/train\\\\Ariel_Sharon\\\\00845.png', 'data/pca_data1/train\\\\Ariel_Sharon\\\\00873.png', 'data/pca_data1/train\\\\Colin_Powell\\\\00001.png', 'data/pca_data1/train\\\\Colin_Powell\\\\00013.png', 'data/pca_data1/train\\\\Colin_Powell\\\\00016.png', 'data/pca_data1/train\\\\Colin_Powell\\\\00024.png', 'data/pca_data1/train\\\\Colin_Powell\\\\00027.png', 'data/pca_data1/train\\\\Colin_Powell\\\\00035.png', 'data/pca_data1/train\\\\Colin_Powell\\\\00042.png', 'data/pca_data1/train\\\\Colin_Powell\\\\00043.png', 'data/pca_data1/train\\\\Colin_Powell\\\\00056.png', 'data/pca_data1/train\\\\Colin_Powell\\\\00071.png', 'data/pca_data1/train\\\\Colin_Powell\\\\00076.png', 'data/pca_data1/train\\\\Colin_Powell\\\\00082.png', 'data/pca_data1/train\\\\Colin_Powell\\\\00085.png', 'data/pca_data1/train\\\\Colin_Powell\\\\00087.png', 'data/pca_data1/train\\\\Colin_Powell\\\\00092.png', 'data/pca_data1/train\\\\Colin_Powell\\\\00094.png', 'data/pca_data1/train\\\\Colin_Powell\\\\00097.png', 'data/pca_data1/train\\\\Colin_Powell\\\\00100.png', 'data/pca_data1/train\\\\Colin_Powell\\\\00101.png', 'data/pca_data1/train\\\\Colin_Powell\\\\00104.png', 'data/pca_data1/train\\\\Colin_Powell\\\\00113.png', 'data/pca_data1/train\\\\Colin_Powell\\\\00123.png', 'data/pca_data1/train\\\\Colin_Powell\\\\00128.png', 'data/pca_data1/train\\\\Colin_Powell\\\\00130.png', 'data/pca_data1/train\\\\Colin_Powell\\\\00135.png', 'data/pca_data1/train\\\\Colin_Powell\\\\00146.png', 'data/pca_data1/train\\\\Colin_Powell\\\\00159.png', 'data/pca_data1/train\\\\Colin_Powell\\\\00162.png', 'data/pca_data1/train\\\\Colin_Powell\\\\00164.png', 'data/pca_data1/train\\\\Colin_Powell\\\\00172.png', 'data/pca_data1/train\\\\Colin_Powell\\\\00177.png', 'data/pca_data1/train\\\\Colin_Powell\\\\00187.png', 'data/pca_data1/train\\\\Colin_Powell\\\\00203.png', 'data/pca_data1/train\\\\Colin_Powell\\\\00221.png', 'data/pca_data1/train\\\\Colin_Powell\\\\00223.png', 'data/pca_data1/train\\\\Colin_Powell\\\\00224.png', 'data/pca_data1/train\\\\Colin_Powell\\\\00229.png', 'data/pca_data1/train\\\\Colin_Powell\\\\00233.png', 'data/pca_data1/train\\\\Colin_Powell\\\\00236.png', 'data/pca_data1/train\\\\Colin_Powell\\\\00239.png', 'data/pca_data1/train\\\\Colin_Powell\\\\00240.png', 'data/pca_data1/train\\\\Colin_Powell\\\\00241.png', 'data/pca_data1/train\\\\Colin_Powell\\\\00265.png', 'data/pca_data1/train\\\\Colin_Powell\\\\00266.png', 'data/pca_data1/train\\\\Colin_Powell\\\\00288.png', 'data/pca_data1/train\\\\Colin_Powell\\\\00291.png', 'data/pca_data1/train\\\\Colin_Powell\\\\00294.png', 'data/pca_data1/train\\\\Colin_Powell\\\\00301.png', 'data/pca_data1/train\\\\Colin_Powell\\\\00303.png', 'data/pca_data1/train\\\\Colin_Powell\\\\00310.png', 'data/pca_data1/train\\\\Colin_Powell\\\\00314.png', 'data/pca_data1/train\\\\Colin_Powell\\\\00324.png', 'data/pca_data1/train\\\\Colin_Powell\\\\00325.png', 'data/pca_data1/train\\\\Colin_Powell\\\\00326.png', 'data/pca_data1/train\\\\Colin_Powell\\\\00330.png', 'data/pca_data1/train\\\\Colin_Powell\\\\00333.png', 'data/pca_data1/train\\\\Colin_Powell\\\\00341.png', 'data/pca_data1/train\\\\Colin_Powell\\\\00348.png', 'data/pca_data1/train\\\\Colin_Powell\\\\00363.png', 'data/pca_data1/train\\\\Colin_Powell\\\\00364.png', 'data/pca_data1/train\\\\Colin_Powell\\\\00365.png', 'data/pca_data1/train\\\\Colin_Powell\\\\00379.png', 'data/pca_data1/train\\\\Colin_Powell\\\\00387.png', 'data/pca_data1/train\\\\Colin_Powell\\\\00391.png', 'data/pca_data1/train\\\\Colin_Powell\\\\00393.png', 'data/pca_data1/train\\\\Colin_Powell\\\\00395.png', 'data/pca_data1/train\\\\Colin_Powell\\\\00401.png', 'data/pca_data1/train\\\\Colin_Powell\\\\00407.png', 'data/pca_data1/train\\\\Colin_Powell\\\\00412.png', 'data/pca_data1/train\\\\Colin_Powell\\\\00416.png', 'data/pca_data1/train\\\\Colin_Powell\\\\00425.png', 'data/pca_data1/train\\\\Colin_Powell\\\\00432.png', 'data/pca_data1/train\\\\Colin_Powell\\\\00434.png', 'data/pca_data1/train\\\\Colin_Powell\\\\00447.png', 'data/pca_data1/train\\\\Colin_Powell\\\\00450.png', 'data/pca_data1/train\\\\Colin_Powell\\\\00460.png', 'data/pca_data1/train\\\\Colin_Powell\\\\00464.png', 'data/pca_data1/train\\\\Colin_Powell\\\\00466.png', 'data/pca_data1/train\\\\Colin_Powell\\\\00467.png', 'data/pca_data1/train\\\\Colin_Powell\\\\00475.png', 'data/pca_data1/train\\\\Colin_Powell\\\\00489.png', 'data/pca_data1/train\\\\Colin_Powell\\\\00492.png', 'data/pca_data1/train\\\\Colin_Powell\\\\00494.png', 'data/pca_data1/train\\\\Colin_Powell\\\\00498.png', 'data/pca_data1/train\\\\Colin_Powell\\\\00503.png', 'data/pca_data1/train\\\\Colin_Powell\\\\00518.png', 'data/pca_data1/train\\\\Colin_Powell\\\\00519.png', 'data/pca_data1/train\\\\Colin_Powell\\\\00524.png', 'data/pca_data1/train\\\\Colin_Powell\\\\00535.png', 'data/pca_data1/train\\\\Colin_Powell\\\\00547.png', 'data/pca_data1/train\\\\Colin_Powell\\\\00549.png', 'data/pca_data1/train\\\\Colin_Powell\\\\00555.png', 'data/pca_data1/train\\\\Colin_Powell\\\\00556.png', 'data/pca_data1/train\\\\Colin_Powell\\\\00564.png', 'data/pca_data1/train\\\\Colin_Powell\\\\00571.png', 'data/pca_data1/train\\\\Colin_Powell\\\\00583.png', 'data/pca_data1/train\\\\Colin_Powell\\\\00587.png', 'data/pca_data1/train\\\\Colin_Powell\\\\00591.png', 'data/pca_data1/train\\\\Colin_Powell\\\\00597.png', 'data/pca_data1/train\\\\Colin_Powell\\\\00605.png', 'data/pca_data1/train\\\\Colin_Powell\\\\00615.png', 'data/pca_data1/train\\\\Colin_Powell\\\\00620.png', 'data/pca_data1/train\\\\Colin_Powell\\\\00622.png', 'data/pca_data1/train\\\\Colin_Powell\\\\00633.png', 'data/pca_data1/train\\\\Colin_Powell\\\\00635.png', 'data/pca_data1/train\\\\Colin_Powell\\\\00636.png', 'data/pca_data1/train\\\\Colin_Powell\\\\00637.png', 'data/pca_data1/train\\\\Colin_Powell\\\\00638.png', 'data/pca_data1/train\\\\Colin_Powell\\\\00641.png', 'data/pca_data1/train\\\\Colin_Powell\\\\00648.png', 'data/pca_data1/train\\\\Colin_Powell\\\\00669.png', 'data/pca_data1/train\\\\Colin_Powell\\\\00670.png', 'data/pca_data1/train\\\\Colin_Powell\\\\00672.png', 'data/pca_data1/train\\\\Colin_Powell\\\\00676.png', 'data/pca_data1/train\\\\Colin_Powell\\\\00685.png', 'data/pca_data1/train\\\\Colin_Powell\\\\00687.png', 'data/pca_data1/train\\\\Colin_Powell\\\\00688.png', 'data/pca_data1/train\\\\Colin_Powell\\\\00694.png', 'data/pca_data1/train\\\\Colin_Powell\\\\00698.png', 'data/pca_data1/train\\\\Colin_Powell\\\\00700.png', 'data/pca_data1/train\\\\Colin_Powell\\\\00703.png', 'data/pca_data1/train\\\\Colin_Powell\\\\00706.png', 'data/pca_data1/train\\\\Colin_Powell\\\\00707.png', 'data/pca_data1/train\\\\Colin_Powell\\\\00711.png', 'data/pca_data1/train\\\\Colin_Powell\\\\00714.png', 'data/pca_data1/train\\\\Colin_Powell\\\\00727.png', 'data/pca_data1/train\\\\Colin_Powell\\\\00738.png', 'data/pca_data1/train\\\\Colin_Powell\\\\00741.png', 'data/pca_data1/train\\\\Colin_Powell\\\\00746.png', 'data/pca_data1/train\\\\Colin_Powell\\\\00748.png', 'data/pca_data1/train\\\\Colin_Powell\\\\00750.png', 'data/pca_data1/train\\\\Colin_Powell\\\\00753.png', 'data/pca_data1/train\\\\Colin_Powell\\\\00761.png', 'data/pca_data1/train\\\\Colin_Powell\\\\00767.png', 'data/pca_data1/train\\\\Colin_Powell\\\\00769.png', 'data/pca_data1/train\\\\Colin_Powell\\\\00772.png', 'data/pca_data1/train\\\\Colin_Powell\\\\00775.png', 'data/pca_data1/train\\\\Colin_Powell\\\\00785.png', 'data/pca_data1/train\\\\Colin_Powell\\\\00787.png', 'data/pca_data1/train\\\\Colin_Powell\\\\00790.png', 'data/pca_data1/train\\\\Colin_Powell\\\\00817.png', 'data/pca_data1/train\\\\Colin_Powell\\\\00821.png', 'data/pca_data1/train\\\\Colin_Powell\\\\00827.png', 'data/pca_data1/train\\\\Colin_Powell\\\\00829.png', 'data/pca_data1/train\\\\Colin_Powell\\\\00830.png', 'data/pca_data1/train\\\\Colin_Powell\\\\00834.png', 'data/pca_data1/train\\\\Colin_Powell\\\\00838.png', 'data/pca_data1/train\\\\Colin_Powell\\\\00840.png', 'data/pca_data1/train\\\\Colin_Powell\\\\00841.png', 'data/pca_data1/train\\\\Colin_Powell\\\\00847.png', 'data/pca_data1/train\\\\Colin_Powell\\\\00852.png', 'data/pca_data1/train\\\\Colin_Powell\\\\00853.png', 'data/pca_data1/train\\\\Colin_Powell\\\\00854.png', 'data/pca_data1/train\\\\Colin_Powell\\\\00855.png', 'data/pca_data1/train\\\\Colin_Powell\\\\00856.png', 'data/pca_data1/train\\\\Colin_Powell\\\\00860.png', 'data/pca_data1/train\\\\Colin_Powell\\\\00862.png', 'data/pca_data1/train\\\\Colin_Powell\\\\00867.png', 'data/pca_data1/train\\\\Colin_Powell\\\\00869.png', 'data/pca_data1/train\\\\Colin_Powell\\\\00899.png', 'data/pca_data1/train\\\\Colin_Powell\\\\00905.png', 'data/pca_data1/train\\\\Colin_Powell\\\\00907.png', 'data/pca_data1/train\\\\Colin_Powell\\\\00915.png', 'data/pca_data1/train\\\\Colin_Powell\\\\00919.png', 'data/pca_data1/train\\\\Colin_Powell\\\\00920.png', 'data/pca_data1/train\\\\Colin_Powell\\\\00921.png', 'data/pca_data1/train\\\\Colin_Powell\\\\00924.png', 'data/pca_data1/train\\\\Colin_Powell\\\\00929.png', 'data/pca_data1/train\\\\Colin_Powell\\\\00932.png', 'data/pca_data1/train\\\\Colin_Powell\\\\00946.png', 'data/pca_data1/train\\\\Colin_Powell\\\\00950.png', 'data/pca_data1/train\\\\Colin_Powell\\\\00953.png', 'data/pca_data1/train\\\\Colin_Powell\\\\00954.png', 'data/pca_data1/train\\\\Colin_Powell\\\\00956.png', 'data/pca_data1/train\\\\Colin_Powell\\\\00961.png', 'data/pca_data1/train\\\\Colin_Powell\\\\00965.png', 'data/pca_data1/train\\\\Donald_Rumsfeld\\\\00002.png', 'data/pca_data1/train\\\\Donald_Rumsfeld\\\\00006.png', 'data/pca_data1/train\\\\Donald_Rumsfeld\\\\00010.png', 'data/pca_data1/train\\\\Donald_Rumsfeld\\\\00011.png', 'data/pca_data1/train\\\\Donald_Rumsfeld\\\\00015.png', 'data/pca_data1/train\\\\Donald_Rumsfeld\\\\00018.png', 'data/pca_data1/train\\\\Donald_Rumsfeld\\\\00039.png', 'data/pca_data1/train\\\\Donald_Rumsfeld\\\\00068.png', 'data/pca_data1/train\\\\Donald_Rumsfeld\\\\00072.png', 'data/pca_data1/train\\\\Donald_Rumsfeld\\\\00079.png', 'data/pca_data1/train\\\\Donald_Rumsfeld\\\\00080.png', 'data/pca_data1/train\\\\Donald_Rumsfeld\\\\00107.png', 'data/pca_data1/train\\\\Donald_Rumsfeld\\\\00115.png', 'data/pca_data1/train\\\\Donald_Rumsfeld\\\\00117.png', 'data/pca_data1/train\\\\Donald_Rumsfeld\\\\00149.png', 'data/pca_data1/train\\\\Donald_Rumsfeld\\\\00167.png', 'data/pca_data1/train\\\\Donald_Rumsfeld\\\\00168.png', 'data/pca_data1/train\\\\Donald_Rumsfeld\\\\00173.png', 'data/pca_data1/train\\\\Donald_Rumsfeld\\\\00175.png', 'data/pca_data1/train\\\\Donald_Rumsfeld\\\\00197.png', 'data/pca_data1/train\\\\Donald_Rumsfeld\\\\00206.png', 'data/pca_data1/train\\\\Donald_Rumsfeld\\\\00225.png', 'data/pca_data1/train\\\\Donald_Rumsfeld\\\\00227.png', 'data/pca_data1/train\\\\Donald_Rumsfeld\\\\00232.png', 'data/pca_data1/train\\\\Donald_Rumsfeld\\\\00235.png', 'data/pca_data1/train\\\\Donald_Rumsfeld\\\\00244.png', 'data/pca_data1/train\\\\Donald_Rumsfeld\\\\00253.png', 'data/pca_data1/train\\\\Donald_Rumsfeld\\\\00274.png', 'data/pca_data1/train\\\\Donald_Rumsfeld\\\\00277.png', 'data/pca_data1/train\\\\Donald_Rumsfeld\\\\00281.png', 'data/pca_data1/train\\\\Donald_Rumsfeld\\\\00283.png', 'data/pca_data1/train\\\\Donald_Rumsfeld\\\\00300.png', 'data/pca_data1/train\\\\Donald_Rumsfeld\\\\00306.png', 'data/pca_data1/train\\\\Donald_Rumsfeld\\\\00307.png', 'data/pca_data1/train\\\\Donald_Rumsfeld\\\\00309.png', 'data/pca_data1/train\\\\Donald_Rumsfeld\\\\00313.png', 'data/pca_data1/train\\\\Donald_Rumsfeld\\\\00328.png', 'data/pca_data1/train\\\\Donald_Rumsfeld\\\\00349.png', 'data/pca_data1/train\\\\Donald_Rumsfeld\\\\00368.png', 'data/pca_data1/train\\\\Donald_Rumsfeld\\\\00380.png', 'data/pca_data1/train\\\\Donald_Rumsfeld\\\\00382.png', 'data/pca_data1/train\\\\Donald_Rumsfeld\\\\00385.png', 'data/pca_data1/train\\\\Donald_Rumsfeld\\\\00404.png', 'data/pca_data1/train\\\\Donald_Rumsfeld\\\\00441.png', 'data/pca_data1/train\\\\Donald_Rumsfeld\\\\00442.png', 'data/pca_data1/train\\\\Donald_Rumsfeld\\\\00444.png', 'data/pca_data1/train\\\\Donald_Rumsfeld\\\\00446.png', 'data/pca_data1/train\\\\Donald_Rumsfeld\\\\00451.png', 'data/pca_data1/train\\\\Donald_Rumsfeld\\\\00470.png', 'data/pca_data1/train\\\\Donald_Rumsfeld\\\\00483.png', 'data/pca_data1/train\\\\Donald_Rumsfeld\\\\00491.png', 'data/pca_data1/train\\\\Donald_Rumsfeld\\\\00497.png', 'data/pca_data1/train\\\\Donald_Rumsfeld\\\\00499.png', 'data/pca_data1/train\\\\Donald_Rumsfeld\\\\00502.png', 'data/pca_data1/train\\\\Donald_Rumsfeld\\\\00504.png', 'data/pca_data1/train\\\\Donald_Rumsfeld\\\\00509.png', 'data/pca_data1/train\\\\Donald_Rumsfeld\\\\00511.png', 'data/pca_data1/train\\\\Donald_Rumsfeld\\\\00550.png', 'data/pca_data1/train\\\\Donald_Rumsfeld\\\\00569.png', 'data/pca_data1/train\\\\Donald_Rumsfeld\\\\00570.png', 'data/pca_data1/train\\\\Donald_Rumsfeld\\\\00572.png', 'data/pca_data1/train\\\\Donald_Rumsfeld\\\\00573.png', 'data/pca_data1/train\\\\Donald_Rumsfeld\\\\00585.png', 'data/pca_data1/train\\\\Donald_Rumsfeld\\\\00588.png', 'data/pca_data1/train\\\\Donald_Rumsfeld\\\\00590.png', 'data/pca_data1/train\\\\Donald_Rumsfeld\\\\00594.png', 'data/pca_data1/train\\\\Donald_Rumsfeld\\\\00596.png', 'data/pca_data1/train\\\\Donald_Rumsfeld\\\\00599.png', 'data/pca_data1/train\\\\Donald_Rumsfeld\\\\00606.png', 'data/pca_data1/train\\\\Donald_Rumsfeld\\\\00630.png', 'data/pca_data1/train\\\\Donald_Rumsfeld\\\\00659.png', 'data/pca_data1/train\\\\Donald_Rumsfeld\\\\00666.png', 'data/pca_data1/train\\\\Donald_Rumsfeld\\\\00671.png', 'data/pca_data1/train\\\\Donald_Rumsfeld\\\\00689.png', 'data/pca_data1/train\\\\Donald_Rumsfeld\\\\00722.png', 'data/pca_data1/train\\\\Donald_Rumsfeld\\\\00735.png', 'data/pca_data1/train\\\\Donald_Rumsfeld\\\\00737.png', 'data/pca_data1/train\\\\Donald_Rumsfeld\\\\00758.png', 'data/pca_data1/train\\\\Donald_Rumsfeld\\\\00774.png', 'data/pca_data1/train\\\\Donald_Rumsfeld\\\\00798.png', 'data/pca_data1/train\\\\Donald_Rumsfeld\\\\00803.png', 'data/pca_data1/train\\\\Donald_Rumsfeld\\\\00836.png', 'data/pca_data1/train\\\\Donald_Rumsfeld\\\\00851.png', 'data/pca_data1/train\\\\Donald_Rumsfeld\\\\00882.png', 'data/pca_data1/train\\\\Donald_Rumsfeld\\\\00884.png', 'data/pca_data1/train\\\\Donald_Rumsfeld\\\\00885.png', 'data/pca_data1/train\\\\Donald_Rumsfeld\\\\00889.png', 'data/pca_data1/train\\\\Donald_Rumsfeld\\\\00890.png', 'data/pca_data1/train\\\\Donald_Rumsfeld\\\\00892.png', 'data/pca_data1/train\\\\Donald_Rumsfeld\\\\00906.png', 'data/pca_data1/train\\\\Donald_Rumsfeld\\\\00937.png', 'data/pca_data1/train\\\\Donald_Rumsfeld\\\\00941.png', 'data/pca_data1/train\\\\Donald_Rumsfeld\\\\00959.png', 'data/pca_data1/train\\\\Donald_Rumsfeld\\\\00964.png', 'data/pca_data1/train\\\\George_W_Bush\\\\00000.png', 'data/pca_data1/train\\\\George_W_Bush\\\\00017.png', 'data/pca_data1/train\\\\George_W_Bush\\\\00019.png', 'data/pca_data1/train\\\\George_W_Bush\\\\00021.png', 'data/pca_data1/train\\\\George_W_Bush\\\\00022.png', 'data/pca_data1/train\\\\George_W_Bush\\\\00025.png', 'data/pca_data1/train\\\\George_W_Bush\\\\00032.png', 'data/pca_data1/train\\\\George_W_Bush\\\\00034.png', 'data/pca_data1/train\\\\George_W_Bush\\\\00037.png', 'data/pca_data1/train\\\\George_W_Bush\\\\00040.png', 'data/pca_data1/train\\\\George_W_Bush\\\\00044.png', 'data/pca_data1/train\\\\George_W_Bush\\\\00046.png', 'data/pca_data1/train\\\\George_W_Bush\\\\00047.png', 'data/pca_data1/train\\\\George_W_Bush\\\\00048.png', 'data/pca_data1/train\\\\George_W_Bush\\\\00049.png', 'data/pca_data1/train\\\\George_W_Bush\\\\00053.png', 'data/pca_data1/train\\\\George_W_Bush\\\\00054.png', 'data/pca_data1/train\\\\George_W_Bush\\\\00057.png', 'data/pca_data1/train\\\\George_W_Bush\\\\00060.png', 'data/pca_data1/train\\\\George_W_Bush\\\\00061.png', 'data/pca_data1/train\\\\George_W_Bush\\\\00065.png', 'data/pca_data1/train\\\\George_W_Bush\\\\00070.png', 'data/pca_data1/train\\\\George_W_Bush\\\\00074.png', 'data/pca_data1/train\\\\George_W_Bush\\\\00075.png', 'data/pca_data1/train\\\\George_W_Bush\\\\00077.png', 'data/pca_data1/train\\\\George_W_Bush\\\\00081.png', 'data/pca_data1/train\\\\George_W_Bush\\\\00084.png', 'data/pca_data1/train\\\\George_W_Bush\\\\00090.png', 'data/pca_data1/train\\\\George_W_Bush\\\\00091.png', 'data/pca_data1/train\\\\George_W_Bush\\\\00095.png', 'data/pca_data1/train\\\\George_W_Bush\\\\00096.png', 'data/pca_data1/train\\\\George_W_Bush\\\\00098.png', 'data/pca_data1/train\\\\George_W_Bush\\\\00103.png', 'data/pca_data1/train\\\\George_W_Bush\\\\00105.png', 'data/pca_data1/train\\\\George_W_Bush\\\\00106.png', 'data/pca_data1/train\\\\George_W_Bush\\\\00108.png', 'data/pca_data1/train\\\\George_W_Bush\\\\00109.png', 'data/pca_data1/train\\\\George_W_Bush\\\\00110.png', 'data/pca_data1/train\\\\George_W_Bush\\\\00111.png', 'data/pca_data1/train\\\\George_W_Bush\\\\00114.png', 'data/pca_data1/train\\\\George_W_Bush\\\\00118.png', 'data/pca_data1/train\\\\George_W_Bush\\\\00119.png', 'data/pca_data1/train\\\\George_W_Bush\\\\00120.png', 'data/pca_data1/train\\\\George_W_Bush\\\\00125.png', 'data/pca_data1/train\\\\George_W_Bush\\\\00126.png', 'data/pca_data1/train\\\\George_W_Bush\\\\00127.png', 'data/pca_data1/train\\\\George_W_Bush\\\\00131.png', 'data/pca_data1/train\\\\George_W_Bush\\\\00133.png', 'data/pca_data1/train\\\\George_W_Bush\\\\00134.png', 'data/pca_data1/train\\\\George_W_Bush\\\\00136.png', 'data/pca_data1/train\\\\George_W_Bush\\\\00138.png', 'data/pca_data1/train\\\\George_W_Bush\\\\00139.png', 'data/pca_data1/train\\\\George_W_Bush\\\\00141.png', 'data/pca_data1/train\\\\George_W_Bush\\\\00142.png', 'data/pca_data1/train\\\\George_W_Bush\\\\00143.png', 'data/pca_data1/train\\\\George_W_Bush\\\\00144.png', 'data/pca_data1/train\\\\George_W_Bush\\\\00145.png', 'data/pca_data1/train\\\\George_W_Bush\\\\00151.png', 'data/pca_data1/train\\\\George_W_Bush\\\\00152.png', 'data/pca_data1/train\\\\George_W_Bush\\\\00155.png', 'data/pca_data1/train\\\\George_W_Bush\\\\00157.png', 'data/pca_data1/train\\\\George_W_Bush\\\\00158.png', 'data/pca_data1/train\\\\George_W_Bush\\\\00163.png', 'data/pca_data1/train\\\\George_W_Bush\\\\00166.png', 'data/pca_data1/train\\\\George_W_Bush\\\\00170.png', 'data/pca_data1/train\\\\George_W_Bush\\\\00171.png', 'data/pca_data1/train\\\\George_W_Bush\\\\00178.png', 'data/pca_data1/train\\\\George_W_Bush\\\\00180.png', 'data/pca_data1/train\\\\George_W_Bush\\\\00181.png', 'data/pca_data1/train\\\\George_W_Bush\\\\00182.png', 'data/pca_data1/train\\\\George_W_Bush\\\\00183.png', 'data/pca_data1/train\\\\George_W_Bush\\\\00184.png', 'data/pca_data1/train\\\\George_W_Bush\\\\00185.png', 'data/pca_data1/train\\\\George_W_Bush\\\\00188.png', 'data/pca_data1/train\\\\George_W_Bush\\\\00192.png', 'data/pca_data1/train\\\\George_W_Bush\\\\00196.png', 'data/pca_data1/train\\\\George_W_Bush\\\\00198.png', 'data/pca_data1/train\\\\George_W_Bush\\\\00199.png', 'data/pca_data1/train\\\\George_W_Bush\\\\00200.png', 'data/pca_data1/train\\\\George_W_Bush\\\\00202.png', 'data/pca_data1/train\\\\George_W_Bush\\\\00204.png', 'data/pca_data1/train\\\\George_W_Bush\\\\00207.png', 'data/pca_data1/train\\\\George_W_Bush\\\\00209.png', 'data/pca_data1/train\\\\George_W_Bush\\\\00210.png', 'data/pca_data1/train\\\\George_W_Bush\\\\00212.png', 'data/pca_data1/train\\\\George_W_Bush\\\\00213.png', 'data/pca_data1/train\\\\George_W_Bush\\\\00215.png', 'data/pca_data1/train\\\\George_W_Bush\\\\00216.png', 'data/pca_data1/train\\\\George_W_Bush\\\\00217.png', 'data/pca_data1/train\\\\George_W_Bush\\\\00218.png', 'data/pca_data1/train\\\\George_W_Bush\\\\00222.png', 'data/pca_data1/train\\\\George_W_Bush\\\\00226.png', 'data/pca_data1/train\\\\George_W_Bush\\\\00228.png', 'data/pca_data1/train\\\\George_W_Bush\\\\00230.png', 'data/pca_data1/train\\\\George_W_Bush\\\\00231.png', 'data/pca_data1/train\\\\George_W_Bush\\\\00237.png', 'data/pca_data1/train\\\\George_W_Bush\\\\00238.png', 'data/pca_data1/train\\\\George_W_Bush\\\\00246.png', 'data/pca_data1/train\\\\George_W_Bush\\\\00247.png', 'data/pca_data1/train\\\\George_W_Bush\\\\00248.png', 'data/pca_data1/train\\\\George_W_Bush\\\\00249.png', 'data/pca_data1/train\\\\George_W_Bush\\\\00251.png', 'data/pca_data1/train\\\\George_W_Bush\\\\00254.png', 'data/pca_data1/train\\\\George_W_Bush\\\\00255.png', 'data/pca_data1/train\\\\George_W_Bush\\\\00257.png', 'data/pca_data1/train\\\\George_W_Bush\\\\00258.png', 'data/pca_data1/train\\\\George_W_Bush\\\\00259.png', 'data/pca_data1/train\\\\George_W_Bush\\\\00262.png', 'data/pca_data1/train\\\\George_W_Bush\\\\00270.png', 'data/pca_data1/train\\\\George_W_Bush\\\\00271.png', 'data/pca_data1/train\\\\George_W_Bush\\\\00272.png', 'data/pca_data1/train\\\\George_W_Bush\\\\00275.png', 'data/pca_data1/train\\\\George_W_Bush\\\\00276.png', 'data/pca_data1/train\\\\George_W_Bush\\\\00278.png', 'data/pca_data1/train\\\\George_W_Bush\\\\00280.png', 'data/pca_data1/train\\\\George_W_Bush\\\\00282.png', 'data/pca_data1/train\\\\George_W_Bush\\\\00284.png', 'data/pca_data1/train\\\\George_W_Bush\\\\00290.png', 'data/pca_data1/train\\\\George_W_Bush\\\\00295.png', 'data/pca_data1/train\\\\George_W_Bush\\\\00298.png', 'data/pca_data1/train\\\\George_W_Bush\\\\00299.png', 'data/pca_data1/train\\\\George_W_Bush\\\\00302.png', 'data/pca_data1/train\\\\George_W_Bush\\\\00305.png', 'data/pca_data1/train\\\\George_W_Bush\\\\00308.png', 'data/pca_data1/train\\\\George_W_Bush\\\\00312.png', 'data/pca_data1/train\\\\George_W_Bush\\\\00315.png', 'data/pca_data1/train\\\\George_W_Bush\\\\00317.png', 'data/pca_data1/train\\\\George_W_Bush\\\\00318.png', 'data/pca_data1/train\\\\George_W_Bush\\\\00320.png', 'data/pca_data1/train\\\\George_W_Bush\\\\00321.png', 'data/pca_data1/train\\\\George_W_Bush\\\\00322.png', 'data/pca_data1/train\\\\George_W_Bush\\\\00323.png', 'data/pca_data1/train\\\\George_W_Bush\\\\00327.png', 'data/pca_data1/train\\\\George_W_Bush\\\\00331.png', 'data/pca_data1/train\\\\George_W_Bush\\\\00332.png', 'data/pca_data1/train\\\\George_W_Bush\\\\00335.png', 'data/pca_data1/train\\\\George_W_Bush\\\\00336.png', 'data/pca_data1/train\\\\George_W_Bush\\\\00338.png', 'data/pca_data1/train\\\\George_W_Bush\\\\00339.png', 'data/pca_data1/train\\\\George_W_Bush\\\\00340.png', 'data/pca_data1/train\\\\George_W_Bush\\\\00344.png', 'data/pca_data1/train\\\\George_W_Bush\\\\00346.png', 'data/pca_data1/train\\\\George_W_Bush\\\\00347.png', 'data/pca_data1/train\\\\George_W_Bush\\\\00352.png', 'data/pca_data1/train\\\\George_W_Bush\\\\00354.png', 'data/pca_data1/train\\\\George_W_Bush\\\\00355.png', 'data/pca_data1/train\\\\George_W_Bush\\\\00356.png', 'data/pca_data1/train\\\\George_W_Bush\\\\00357.png', 'data/pca_data1/train\\\\George_W_Bush\\\\00358.png', 'data/pca_data1/train\\\\George_W_Bush\\\\00361.png', 'data/pca_data1/train\\\\George_W_Bush\\\\00362.png', 'data/pca_data1/train\\\\George_W_Bush\\\\00366.png', 'data/pca_data1/train\\\\George_W_Bush\\\\00367.png', 'data/pca_data1/train\\\\George_W_Bush\\\\00369.png', 'data/pca_data1/train\\\\George_W_Bush\\\\00370.png', 'data/pca_data1/train\\\\George_W_Bush\\\\00371.png', 'data/pca_data1/train\\\\George_W_Bush\\\\00373.png', 'data/pca_data1/train\\\\George_W_Bush\\\\00374.png', 'data/pca_data1/train\\\\George_W_Bush\\\\00375.png', 'data/pca_data1/train\\\\George_W_Bush\\\\00376.png', 'data/pca_data1/train\\\\George_W_Bush\\\\00377.png', 'data/pca_data1/train\\\\George_W_Bush\\\\00378.png', 'data/pca_data1/train\\\\George_W_Bush\\\\00381.png', 'data/pca_data1/train\\\\George_W_Bush\\\\00383.png', 'data/pca_data1/train\\\\George_W_Bush\\\\00384.png', 'data/pca_data1/train\\\\George_W_Bush\\\\00392.png', 'data/pca_data1/train\\\\George_W_Bush\\\\00394.png', 'data/pca_data1/train\\\\George_W_Bush\\\\00396.png', 'data/pca_data1/train\\\\George_W_Bush\\\\00398.png', 'data/pca_data1/train\\\\George_W_Bush\\\\00400.png', 'data/pca_data1/train\\\\George_W_Bush\\\\00405.png', 'data/pca_data1/train\\\\George_W_Bush\\\\00409.png', 'data/pca_data1/train\\\\George_W_Bush\\\\00410.png', 'data/pca_data1/train\\\\George_W_Bush\\\\00417.png', 'data/pca_data1/train\\\\George_W_Bush\\\\00426.png', 'data/pca_data1/train\\\\George_W_Bush\\\\00428.png', 'data/pca_data1/train\\\\George_W_Bush\\\\00429.png', 'data/pca_data1/train\\\\George_W_Bush\\\\00433.png', 'data/pca_data1/train\\\\George_W_Bush\\\\00435.png', 'data/pca_data1/train\\\\George_W_Bush\\\\00437.png', 'data/pca_data1/train\\\\George_W_Bush\\\\00438.png', 'data/pca_data1/train\\\\George_W_Bush\\\\00439.png', 'data/pca_data1/train\\\\George_W_Bush\\\\00445.png', 'data/pca_data1/train\\\\George_W_Bush\\\\00452.png', 'data/pca_data1/train\\\\George_W_Bush\\\\00455.png', 'data/pca_data1/train\\\\George_W_Bush\\\\00456.png', 'data/pca_data1/train\\\\George_W_Bush\\\\00458.png', 'data/pca_data1/train\\\\George_W_Bush\\\\00463.png', 'data/pca_data1/train\\\\George_W_Bush\\\\00465.png', 'data/pca_data1/train\\\\George_W_Bush\\\\00471.png', 'data/pca_data1/train\\\\George_W_Bush\\\\00472.png', 'data/pca_data1/train\\\\George_W_Bush\\\\00473.png', 'data/pca_data1/train\\\\George_W_Bush\\\\00474.png', 'data/pca_data1/train\\\\George_W_Bush\\\\00478.png', 'data/pca_data1/train\\\\George_W_Bush\\\\00479.png', 'data/pca_data1/train\\\\George_W_Bush\\\\00480.png', 'data/pca_data1/train\\\\George_W_Bush\\\\00481.png', 'data/pca_data1/train\\\\George_W_Bush\\\\00486.png', 'data/pca_data1/train\\\\George_W_Bush\\\\00501.png', 'data/pca_data1/train\\\\George_W_Bush\\\\00506.png', 'data/pca_data1/train\\\\George_W_Bush\\\\00507.png', 'data/pca_data1/train\\\\George_W_Bush\\\\00508.png', 'data/pca_data1/train\\\\George_W_Bush\\\\00513.png', 'data/pca_data1/train\\\\George_W_Bush\\\\00515.png', 'data/pca_data1/train\\\\George_W_Bush\\\\00516.png', 'data/pca_data1/train\\\\George_W_Bush\\\\00517.png', 'data/pca_data1/train\\\\George_W_Bush\\\\00520.png', 'data/pca_data1/train\\\\George_W_Bush\\\\00522.png', 'data/pca_data1/train\\\\George_W_Bush\\\\00523.png', 'data/pca_data1/train\\\\George_W_Bush\\\\00525.png', 'data/pca_data1/train\\\\George_W_Bush\\\\00526.png', 'data/pca_data1/train\\\\George_W_Bush\\\\00528.png', 'data/pca_data1/train\\\\George_W_Bush\\\\00532.png', 'data/pca_data1/train\\\\George_W_Bush\\\\00533.png', 'data/pca_data1/train\\\\George_W_Bush\\\\00536.png', 'data/pca_data1/train\\\\George_W_Bush\\\\00537.png', 'data/pca_data1/train\\\\George_W_Bush\\\\00540.png', 'data/pca_data1/train\\\\George_W_Bush\\\\00541.png', 'data/pca_data1/train\\\\George_W_Bush\\\\00542.png', 'data/pca_data1/train\\\\George_W_Bush\\\\00544.png', 'data/pca_data1/train\\\\George_W_Bush\\\\00551.png', 'data/pca_data1/train\\\\George_W_Bush\\\\00552.png', 'data/pca_data1/train\\\\George_W_Bush\\\\00553.png', 'data/pca_data1/train\\\\George_W_Bush\\\\00554.png', 'data/pca_data1/train\\\\George_W_Bush\\\\00557.png', 'data/pca_data1/train\\\\George_W_Bush\\\\00559.png', 'data/pca_data1/train\\\\George_W_Bush\\\\00562.png', 'data/pca_data1/train\\\\George_W_Bush\\\\00563.png', 'data/pca_data1/train\\\\George_W_Bush\\\\00565.png', 'data/pca_data1/train\\\\George_W_Bush\\\\00567.png', 'data/pca_data1/train\\\\George_W_Bush\\\\00568.png', 'data/pca_data1/train\\\\George_W_Bush\\\\00577.png', 'data/pca_data1/train\\\\George_W_Bush\\\\00580.png', 'data/pca_data1/train\\\\George_W_Bush\\\\00582.png', 'data/pca_data1/train\\\\George_W_Bush\\\\00584.png', 'data/pca_data1/train\\\\George_W_Bush\\\\00592.png', 'data/pca_data1/train\\\\George_W_Bush\\\\00600.png', 'data/pca_data1/train\\\\George_W_Bush\\\\00601.png', 'data/pca_data1/train\\\\George_W_Bush\\\\00603.png', 'data/pca_data1/train\\\\George_W_Bush\\\\00604.png', 'data/pca_data1/train\\\\George_W_Bush\\\\00610.png', 'data/pca_data1/train\\\\George_W_Bush\\\\00613.png', 'data/pca_data1/train\\\\George_W_Bush\\\\00614.png', 'data/pca_data1/train\\\\George_W_Bush\\\\00617.png', 'data/pca_data1/train\\\\George_W_Bush\\\\00621.png', 'data/pca_data1/train\\\\George_W_Bush\\\\00623.png', 'data/pca_data1/train\\\\George_W_Bush\\\\00624.png', 'data/pca_data1/train\\\\George_W_Bush\\\\00625.png', 'data/pca_data1/train\\\\George_W_Bush\\\\00626.png', 'data/pca_data1/train\\\\George_W_Bush\\\\00628.png', 'data/pca_data1/train\\\\George_W_Bush\\\\00632.png', 'data/pca_data1/train\\\\George_W_Bush\\\\00634.png', 'data/pca_data1/train\\\\George_W_Bush\\\\00639.png', 'data/pca_data1/train\\\\George_W_Bush\\\\00640.png', 'data/pca_data1/train\\\\George_W_Bush\\\\00642.png', 'data/pca_data1/train\\\\George_W_Bush\\\\00643.png', 'data/pca_data1/train\\\\George_W_Bush\\\\00644.png', 'data/pca_data1/train\\\\George_W_Bush\\\\00646.png', 'data/pca_data1/train\\\\George_W_Bush\\\\00649.png', 'data/pca_data1/train\\\\George_W_Bush\\\\00650.png', 'data/pca_data1/train\\\\George_W_Bush\\\\00652.png', 'data/pca_data1/train\\\\George_W_Bush\\\\00655.png', 'data/pca_data1/train\\\\George_W_Bush\\\\00658.png', 'data/pca_data1/train\\\\George_W_Bush\\\\00660.png', 'data/pca_data1/train\\\\George_W_Bush\\\\00661.png', 'data/pca_data1/train\\\\George_W_Bush\\\\00663.png', 'data/pca_data1/train\\\\George_W_Bush\\\\00664.png', 'data/pca_data1/train\\\\George_W_Bush\\\\00667.png', 'data/pca_data1/train\\\\George_W_Bush\\\\00673.png', 'data/pca_data1/train\\\\George_W_Bush\\\\00674.png', 'data/pca_data1/train\\\\George_W_Bush\\\\00675.png', 'data/pca_data1/train\\\\George_W_Bush\\\\00678.png', 'data/pca_data1/train\\\\George_W_Bush\\\\00679.png', 'data/pca_data1/train\\\\George_W_Bush\\\\00680.png', 'data/pca_data1/train\\\\George_W_Bush\\\\00681.png', 'data/pca_data1/train\\\\George_W_Bush\\\\00682.png', 'data/pca_data1/train\\\\George_W_Bush\\\\00686.png', 'data/pca_data1/train\\\\George_W_Bush\\\\00690.png', 'data/pca_data1/train\\\\George_W_Bush\\\\00696.png', 'data/pca_data1/train\\\\George_W_Bush\\\\00697.png', 'data/pca_data1/train\\\\George_W_Bush\\\\00702.png', 'data/pca_data1/train\\\\George_W_Bush\\\\00704.png', 'data/pca_data1/train\\\\George_W_Bush\\\\00709.png', 'data/pca_data1/train\\\\George_W_Bush\\\\00712.png', 'data/pca_data1/train\\\\George_W_Bush\\\\00713.png', 'data/pca_data1/train\\\\George_W_Bush\\\\00719.png', 'data/pca_data1/train\\\\George_W_Bush\\\\00721.png', 'data/pca_data1/train\\\\George_W_Bush\\\\00725.png', 'data/pca_data1/train\\\\George_W_Bush\\\\00726.png', 'data/pca_data1/train\\\\George_W_Bush\\\\00730.png', 'data/pca_data1/train\\\\George_W_Bush\\\\00731.png', 'data/pca_data1/train\\\\George_W_Bush\\\\00732.png', 'data/pca_data1/train\\\\George_W_Bush\\\\00740.png', 'data/pca_data1/train\\\\George_W_Bush\\\\00744.png', 'data/pca_data1/train\\\\George_W_Bush\\\\00745.png', 'data/pca_data1/train\\\\George_W_Bush\\\\00747.png', 'data/pca_data1/train\\\\George_W_Bush\\\\00751.png', 'data/pca_data1/train\\\\George_W_Bush\\\\00754.png', 'data/pca_data1/train\\\\George_W_Bush\\\\00756.png', 'data/pca_data1/train\\\\George_W_Bush\\\\00757.png', 'data/pca_data1/train\\\\George_W_Bush\\\\00759.png', 'data/pca_data1/train\\\\George_W_Bush\\\\00760.png', 'data/pca_data1/train\\\\George_W_Bush\\\\00762.png', 'data/pca_data1/train\\\\George_W_Bush\\\\00764.png', 'data/pca_data1/train\\\\George_W_Bush\\\\00773.png', 'data/pca_data1/train\\\\George_W_Bush\\\\00776.png', 'data/pca_data1/train\\\\George_W_Bush\\\\00777.png', 'data/pca_data1/train\\\\George_W_Bush\\\\00782.png', 'data/pca_data1/train\\\\George_W_Bush\\\\00783.png', 'data/pca_data1/train\\\\George_W_Bush\\\\00784.png', 'data/pca_data1/train\\\\George_W_Bush\\\\00789.png', 'data/pca_data1/train\\\\George_W_Bush\\\\00791.png', 'data/pca_data1/train\\\\George_W_Bush\\\\00792.png', 'data/pca_data1/train\\\\George_W_Bush\\\\00794.png', 'data/pca_data1/train\\\\George_W_Bush\\\\00796.png', 'data/pca_data1/train\\\\George_W_Bush\\\\00797.png', 'data/pca_data1/train\\\\George_W_Bush\\\\00800.png', 'data/pca_data1/train\\\\George_W_Bush\\\\00802.png', 'data/pca_data1/train\\\\George_W_Bush\\\\00804.png', 'data/pca_data1/train\\\\George_W_Bush\\\\00807.png', 'data/pca_data1/train\\\\George_W_Bush\\\\00810.png', 'data/pca_data1/train\\\\George_W_Bush\\\\00811.png', 'data/pca_data1/train\\\\George_W_Bush\\\\00812.png', 'data/pca_data1/train\\\\George_W_Bush\\\\00813.png', 'data/pca_data1/train\\\\George_W_Bush\\\\00814.png', 'data/pca_data1/train\\\\George_W_Bush\\\\00816.png', 'data/pca_data1/train\\\\George_W_Bush\\\\00818.png', 'data/pca_data1/train\\\\George_W_Bush\\\\00819.png', 'data/pca_data1/train\\\\George_W_Bush\\\\00826.png', 'data/pca_data1/train\\\\George_W_Bush\\\\00828.png', 'data/pca_data1/train\\\\George_W_Bush\\\\00832.png', 'data/pca_data1/train\\\\George_W_Bush\\\\00835.png', 'data/pca_data1/train\\\\George_W_Bush\\\\00843.png', 'data/pca_data1/train\\\\George_W_Bush\\\\00848.png', 'data/pca_data1/train\\\\George_W_Bush\\\\00849.png', 'data/pca_data1/train\\\\George_W_Bush\\\\00850.png', 'data/pca_data1/train\\\\George_W_Bush\\\\00858.png', 'data/pca_data1/train\\\\George_W_Bush\\\\00859.png', 'data/pca_data1/train\\\\George_W_Bush\\\\00861.png', 'data/pca_data1/train\\\\George_W_Bush\\\\00863.png', 'data/pca_data1/train\\\\George_W_Bush\\\\00864.png', 'data/pca_data1/train\\\\George_W_Bush\\\\00865.png', 'data/pca_data1/train\\\\George_W_Bush\\\\00870.png', 'data/pca_data1/train\\\\George_W_Bush\\\\00871.png', 'data/pca_data1/train\\\\George_W_Bush\\\\00874.png', 'data/pca_data1/train\\\\George_W_Bush\\\\00875.png', 'data/pca_data1/train\\\\George_W_Bush\\\\00876.png', 'data/pca_data1/train\\\\George_W_Bush\\\\00877.png', 'data/pca_data1/train\\\\George_W_Bush\\\\00878.png', 'data/pca_data1/train\\\\George_W_Bush\\\\00879.png', 'data/pca_data1/train\\\\George_W_Bush\\\\00887.png', 'data/pca_data1/train\\\\George_W_Bush\\\\00888.png', 'data/pca_data1/train\\\\George_W_Bush\\\\00893.png', 'data/pca_data1/train\\\\George_W_Bush\\\\00894.png', 'data/pca_data1/train\\\\George_W_Bush\\\\00898.png', 'data/pca_data1/train\\\\George_W_Bush\\\\00900.png', 'data/pca_data1/train\\\\George_W_Bush\\\\00902.png', 'data/pca_data1/train\\\\George_W_Bush\\\\00904.png', 'data/pca_data1/train\\\\George_W_Bush\\\\00908.png', 'data/pca_data1/train\\\\George_W_Bush\\\\00910.png', 'data/pca_data1/train\\\\George_W_Bush\\\\00911.png', 'data/pca_data1/train\\\\George_W_Bush\\\\00912.png', 'data/pca_data1/train\\\\George_W_Bush\\\\00914.png', 'data/pca_data1/train\\\\George_W_Bush\\\\00916.png', 'data/pca_data1/train\\\\George_W_Bush\\\\00918.png', 'data/pca_data1/train\\\\George_W_Bush\\\\00922.png', 'data/pca_data1/train\\\\George_W_Bush\\\\00923.png', 'data/pca_data1/train\\\\George_W_Bush\\\\00925.png', 'data/pca_data1/train\\\\George_W_Bush\\\\00926.png', 'data/pca_data1/train\\\\George_W_Bush\\\\00927.png', 'data/pca_data1/train\\\\George_W_Bush\\\\00928.png', 'data/pca_data1/train\\\\George_W_Bush\\\\00931.png', 'data/pca_data1/train\\\\George_W_Bush\\\\00933.png', 'data/pca_data1/train\\\\George_W_Bush\\\\00936.png', 'data/pca_data1/train\\\\George_W_Bush\\\\00938.png', 'data/pca_data1/train\\\\George_W_Bush\\\\00942.png', 'data/pca_data1/train\\\\George_W_Bush\\\\00943.png', 'data/pca_data1/train\\\\George_W_Bush\\\\00945.png', 'data/pca_data1/train\\\\George_W_Bush\\\\00947.png', 'data/pca_data1/train\\\\George_W_Bush\\\\00948.png', 'data/pca_data1/train\\\\George_W_Bush\\\\00949.png', 'data/pca_data1/train\\\\George_W_Bush\\\\00951.png', 'data/pca_data1/train\\\\George_W_Bush\\\\00958.png', 'data/pca_data1/train\\\\George_W_Bush\\\\00963.png', 'data/pca_data1/train\\\\Gerhard_Schroeder\\\\00004.png', 'data/pca_data1/train\\\\Gerhard_Schroeder\\\\00008.png', 'data/pca_data1/train\\\\Gerhard_Schroeder\\\\00012.png', 'data/pca_data1/train\\\\Gerhard_Schroeder\\\\00030.png', 'data/pca_data1/train\\\\Gerhard_Schroeder\\\\00052.png', 'data/pca_data1/train\\\\Gerhard_Schroeder\\\\00059.png', 'data/pca_data1/train\\\\Gerhard_Schroeder\\\\00093.png', 'data/pca_data1/train\\\\Gerhard_Schroeder\\\\00102.png', 'data/pca_data1/train\\\\Gerhard_Schroeder\\\\00121.png', 'data/pca_data1/train\\\\Gerhard_Schroeder\\\\00129.png', 'data/pca_data1/train\\\\Gerhard_Schroeder\\\\00148.png', 'data/pca_data1/train\\\\Gerhard_Schroeder\\\\00153.png', 'data/pca_data1/train\\\\Gerhard_Schroeder\\\\00160.png', 'data/pca_data1/train\\\\Gerhard_Schroeder\\\\00174.png', 'data/pca_data1/train\\\\Gerhard_Schroeder\\\\00179.png', 'data/pca_data1/train\\\\Gerhard_Schroeder\\\\00234.png', 'data/pca_data1/train\\\\Gerhard_Schroeder\\\\00256.png', 'data/pca_data1/train\\\\Gerhard_Schroeder\\\\00264.png', 'data/pca_data1/train\\\\Gerhard_Schroeder\\\\00293.png', 'data/pca_data1/train\\\\Gerhard_Schroeder\\\\00296.png', 'data/pca_data1/train\\\\Gerhard_Schroeder\\\\00297.png', 'data/pca_data1/train\\\\Gerhard_Schroeder\\\\00311.png', 'data/pca_data1/train\\\\Gerhard_Schroeder\\\\00345.png', 'data/pca_data1/train\\\\Gerhard_Schroeder\\\\00372.png', 'data/pca_data1/train\\\\Gerhard_Schroeder\\\\00389.png', 'data/pca_data1/train\\\\Gerhard_Schroeder\\\\00403.png', 'data/pca_data1/train\\\\Gerhard_Schroeder\\\\00408.png', 'data/pca_data1/train\\\\Gerhard_Schroeder\\\\00414.png', 'data/pca_data1/train\\\\Gerhard_Schroeder\\\\00418.png', 'data/pca_data1/train\\\\Gerhard_Schroeder\\\\00422.png', 'data/pca_data1/train\\\\Gerhard_Schroeder\\\\00430.png', 'data/pca_data1/train\\\\Gerhard_Schroeder\\\\00436.png', 'data/pca_data1/train\\\\Gerhard_Schroeder\\\\00443.png', 'data/pca_data1/train\\\\Gerhard_Schroeder\\\\00449.png', 'data/pca_data1/train\\\\Gerhard_Schroeder\\\\00453.png', 'data/pca_data1/train\\\\Gerhard_Schroeder\\\\00459.png', 'data/pca_data1/train\\\\Gerhard_Schroeder\\\\00477.png', 'data/pca_data1/train\\\\Gerhard_Schroeder\\\\00488.png', 'data/pca_data1/train\\\\Gerhard_Schroeder\\\\00490.png', 'data/pca_data1/train\\\\Gerhard_Schroeder\\\\00496.png', 'data/pca_data1/train\\\\Gerhard_Schroeder\\\\00510.png', 'data/pca_data1/train\\\\Gerhard_Schroeder\\\\00512.png', 'data/pca_data1/train\\\\Gerhard_Schroeder\\\\00521.png', 'data/pca_data1/train\\\\Gerhard_Schroeder\\\\00527.png', 'data/pca_data1/train\\\\Gerhard_Schroeder\\\\00538.png', 'data/pca_data1/train\\\\Gerhard_Schroeder\\\\00545.png', 'data/pca_data1/train\\\\Gerhard_Schroeder\\\\00586.png', 'data/pca_data1/train\\\\Gerhard_Schroeder\\\\00595.png', 'data/pca_data1/train\\\\Gerhard_Schroeder\\\\00602.png', 'data/pca_data1/train\\\\Gerhard_Schroeder\\\\00611.png', 'data/pca_data1/train\\\\Gerhard_Schroeder\\\\00619.png', 'data/pca_data1/train\\\\Gerhard_Schroeder\\\\00645.png', 'data/pca_data1/train\\\\Gerhard_Schroeder\\\\00657.png', 'data/pca_data1/train\\\\Gerhard_Schroeder\\\\00668.png', 'data/pca_data1/train\\\\Gerhard_Schroeder\\\\00684.png', 'data/pca_data1/train\\\\Gerhard_Schroeder\\\\00699.png', 'data/pca_data1/train\\\\Gerhard_Schroeder\\\\00701.png', 'data/pca_data1/train\\\\Gerhard_Schroeder\\\\00705.png', 'data/pca_data1/train\\\\Gerhard_Schroeder\\\\00716.png', 'data/pca_data1/train\\\\Gerhard_Schroeder\\\\00734.png', 'data/pca_data1/train\\\\Gerhard_Schroeder\\\\00749.png', 'data/pca_data1/train\\\\Gerhard_Schroeder\\\\00765.png', 'data/pca_data1/train\\\\Gerhard_Schroeder\\\\00771.png', 'data/pca_data1/train\\\\Gerhard_Schroeder\\\\00779.png', 'data/pca_data1/train\\\\Gerhard_Schroeder\\\\00781.png', 'data/pca_data1/train\\\\Gerhard_Schroeder\\\\00788.png', 'data/pca_data1/train\\\\Gerhard_Schroeder\\\\00793.png', 'data/pca_data1/train\\\\Gerhard_Schroeder\\\\00805.png', 'data/pca_data1/train\\\\Gerhard_Schroeder\\\\00808.png', 'data/pca_data1/train\\\\Gerhard_Schroeder\\\\00822.png', 'data/pca_data1/train\\\\Gerhard_Schroeder\\\\00833.png', 'data/pca_data1/train\\\\Gerhard_Schroeder\\\\00842.png', 'data/pca_data1/train\\\\Gerhard_Schroeder\\\\00857.png', 'data/pca_data1/train\\\\Gerhard_Schroeder\\\\00866.png', 'data/pca_data1/train\\\\Gerhard_Schroeder\\\\00868.png', 'data/pca_data1/train\\\\Gerhard_Schroeder\\\\00880.png', 'data/pca_data1/train\\\\Gerhard_Schroeder\\\\00881.png', 'data/pca_data1/train\\\\Gerhard_Schroeder\\\\00895.png', 'data/pca_data1/train\\\\Gerhard_Schroeder\\\\00897.png', 'data/pca_data1/train\\\\Gerhard_Schroeder\\\\00901.png', 'data/pca_data1/train\\\\Gerhard_Schroeder\\\\00917.png', 'data/pca_data1/train\\\\Gerhard_Schroeder\\\\00939.png', 'data/pca_data1/train\\\\Gerhard_Schroeder\\\\00940.png', 'data/pca_data1/train\\\\Gerhard_Schroeder\\\\00944.png', 'data/pca_data1/train\\\\Hugo_Chavez\\\\00009.png', 'data/pca_data1/train\\\\Hugo_Chavez\\\\00029.png', 'data/pca_data1/train\\\\Hugo_Chavez\\\\00031.png', 'data/pca_data1/train\\\\Hugo_Chavez\\\\00050.png', 'data/pca_data1/train\\\\Hugo_Chavez\\\\00069.png', 'data/pca_data1/train\\\\Hugo_Chavez\\\\00078.png', 'data/pca_data1/train\\\\Hugo_Chavez\\\\00086.png', 'data/pca_data1/train\\\\Hugo_Chavez\\\\00089.png', 'data/pca_data1/train\\\\Hugo_Chavez\\\\00112.png', 'data/pca_data1/train\\\\Hugo_Chavez\\\\00122.png', 'data/pca_data1/train\\\\Hugo_Chavez\\\\00154.png', 'data/pca_data1/train\\\\Hugo_Chavez\\\\00165.png', 'data/pca_data1/train\\\\Hugo_Chavez\\\\00169.png', 'data/pca_data1/train\\\\Hugo_Chavez\\\\00191.png', 'data/pca_data1/train\\\\Hugo_Chavez\\\\00193.png', 'data/pca_data1/train\\\\Hugo_Chavez\\\\00205.png', 'data/pca_data1/train\\\\Hugo_Chavez\\\\00242.png', 'data/pca_data1/train\\\\Hugo_Chavez\\\\00243.png', 'data/pca_data1/train\\\\Hugo_Chavez\\\\00245.png', 'data/pca_data1/train\\\\Hugo_Chavez\\\\00252.png', 'data/pca_data1/train\\\\Hugo_Chavez\\\\00267.png', 'data/pca_data1/train\\\\Hugo_Chavez\\\\00269.png', 'data/pca_data1/train\\\\Hugo_Chavez\\\\00334.png', 'data/pca_data1/train\\\\Hugo_Chavez\\\\00343.png', 'data/pca_data1/train\\\\Hugo_Chavez\\\\00350.png', 'data/pca_data1/train\\\\Hugo_Chavez\\\\00386.png', 'data/pca_data1/train\\\\Hugo_Chavez\\\\00388.png', 'data/pca_data1/train\\\\Hugo_Chavez\\\\00415.png', 'data/pca_data1/train\\\\Hugo_Chavez\\\\00419.png', 'data/pca_data1/train\\\\Hugo_Chavez\\\\00421.png', 'data/pca_data1/train\\\\Hugo_Chavez\\\\00440.png', 'data/pca_data1/train\\\\Hugo_Chavez\\\\00454.png', 'data/pca_data1/train\\\\Hugo_Chavez\\\\00461.png', 'data/pca_data1/train\\\\Hugo_Chavez\\\\00531.png', 'data/pca_data1/train\\\\Hugo_Chavez\\\\00534.png', 'data/pca_data1/train\\\\Hugo_Chavez\\\\00539.png', 'data/pca_data1/train\\\\Hugo_Chavez\\\\00548.png', 'data/pca_data1/train\\\\Hugo_Chavez\\\\00581.png', 'data/pca_data1/train\\\\Hugo_Chavez\\\\00598.png', 'data/pca_data1/train\\\\Hugo_Chavez\\\\00654.png', 'data/pca_data1/train\\\\Hugo_Chavez\\\\00683.png', 'data/pca_data1/train\\\\Hugo_Chavez\\\\00691.png', 'data/pca_data1/train\\\\Hugo_Chavez\\\\00692.png', 'data/pca_data1/train\\\\Hugo_Chavez\\\\00693.png', 'data/pca_data1/train\\\\Hugo_Chavez\\\\00715.png', 'data/pca_data1/train\\\\Hugo_Chavez\\\\00717.png', 'data/pca_data1/train\\\\Hugo_Chavez\\\\00728.png', 'data/pca_data1/train\\\\Hugo_Chavez\\\\00768.png', 'data/pca_data1/train\\\\Hugo_Chavez\\\\00770.png', 'data/pca_data1/train\\\\Hugo_Chavez\\\\00801.png', 'data/pca_data1/train\\\\Hugo_Chavez\\\\00809.png', 'data/pca_data1/train\\\\Hugo_Chavez\\\\00883.png', 'data/pca_data1/train\\\\Hugo_Chavez\\\\00886.png', 'data/pca_data1/train\\\\Hugo_Chavez\\\\00891.png', 'data/pca_data1/train\\\\Hugo_Chavez\\\\00903.png', 'data/pca_data1/train\\\\Hugo_Chavez\\\\00913.png', 'data/pca_data1/train\\\\Tony_Blair\\\\00003.png', 'data/pca_data1/train\\\\Tony_Blair\\\\00005.png', 'data/pca_data1/train\\\\Tony_Blair\\\\00007.png', 'data/pca_data1/train\\\\Tony_Blair\\\\00014.png', 'data/pca_data1/train\\\\Tony_Blair\\\\00020.png', 'data/pca_data1/train\\\\Tony_Blair\\\\00023.png', 'data/pca_data1/train\\\\Tony_Blair\\\\00028.png', 'data/pca_data1/train\\\\Tony_Blair\\\\00036.png', 'data/pca_data1/train\\\\Tony_Blair\\\\00038.png', 'data/pca_data1/train\\\\Tony_Blair\\\\00045.png', 'data/pca_data1/train\\\\Tony_Blair\\\\00051.png', 'data/pca_data1/train\\\\Tony_Blair\\\\00058.png', 'data/pca_data1/train\\\\Tony_Blair\\\\00062.png', 'data/pca_data1/train\\\\Tony_Blair\\\\00063.png', 'data/pca_data1/train\\\\Tony_Blair\\\\00066.png', 'data/pca_data1/train\\\\Tony_Blair\\\\00073.png', 'data/pca_data1/train\\\\Tony_Blair\\\\00088.png', 'data/pca_data1/train\\\\Tony_Blair\\\\00116.png', 'data/pca_data1/train\\\\Tony_Blair\\\\00124.png', 'data/pca_data1/train\\\\Tony_Blair\\\\00137.png', 'data/pca_data1/train\\\\Tony_Blair\\\\00140.png', 'data/pca_data1/train\\\\Tony_Blair\\\\00147.png', 'data/pca_data1/train\\\\Tony_Blair\\\\00150.png', 'data/pca_data1/train\\\\Tony_Blair\\\\00161.png', 'data/pca_data1/train\\\\Tony_Blair\\\\00186.png', 'data/pca_data1/train\\\\Tony_Blair\\\\00194.png', 'data/pca_data1/train\\\\Tony_Blair\\\\00201.png', 'data/pca_data1/train\\\\Tony_Blair\\\\00208.png', 'data/pca_data1/train\\\\Tony_Blair\\\\00211.png', 'data/pca_data1/train\\\\Tony_Blair\\\\00219.png', 'data/pca_data1/train\\\\Tony_Blair\\\\00250.png', 'data/pca_data1/train\\\\Tony_Blair\\\\00268.png', 'data/pca_data1/train\\\\Tony_Blair\\\\00279.png', 'data/pca_data1/train\\\\Tony_Blair\\\\00287.png', 'data/pca_data1/train\\\\Tony_Blair\\\\00319.png', 'data/pca_data1/train\\\\Tony_Blair\\\\00337.png', 'data/pca_data1/train\\\\Tony_Blair\\\\00342.png', 'data/pca_data1/train\\\\Tony_Blair\\\\00351.png', 'data/pca_data1/train\\\\Tony_Blair\\\\00353.png', 'data/pca_data1/train\\\\Tony_Blair\\\\00359.png', 'data/pca_data1/train\\\\Tony_Blair\\\\00360.png', 'data/pca_data1/train\\\\Tony_Blair\\\\00390.png', 'data/pca_data1/train\\\\Tony_Blair\\\\00402.png', 'data/pca_data1/train\\\\Tony_Blair\\\\00406.png', 'data/pca_data1/train\\\\Tony_Blair\\\\00420.png', 'data/pca_data1/train\\\\Tony_Blair\\\\00424.png', 'data/pca_data1/train\\\\Tony_Blair\\\\00427.png', 'data/pca_data1/train\\\\Tony_Blair\\\\00431.png', 'data/pca_data1/train\\\\Tony_Blair\\\\00448.png', 'data/pca_data1/train\\\\Tony_Blair\\\\00457.png', 'data/pca_data1/train\\\\Tony_Blair\\\\00468.png', 'data/pca_data1/train\\\\Tony_Blair\\\\00476.png', 'data/pca_data1/train\\\\Tony_Blair\\\\00482.png', 'data/pca_data1/train\\\\Tony_Blair\\\\00484.png', 'data/pca_data1/train\\\\Tony_Blair\\\\00493.png', 'data/pca_data1/train\\\\Tony_Blair\\\\00495.png', 'data/pca_data1/train\\\\Tony_Blair\\\\00500.png', 'data/pca_data1/train\\\\Tony_Blair\\\\00505.png', 'data/pca_data1/train\\\\Tony_Blair\\\\00514.png', 'data/pca_data1/train\\\\Tony_Blair\\\\00543.png', 'data/pca_data1/train\\\\Tony_Blair\\\\00558.png', 'data/pca_data1/train\\\\Tony_Blair\\\\00560.png', 'data/pca_data1/train\\\\Tony_Blair\\\\00561.png', 'data/pca_data1/train\\\\Tony_Blair\\\\00566.png', 'data/pca_data1/train\\\\Tony_Blair\\\\00578.png', 'data/pca_data1/train\\\\Tony_Blair\\\\00579.png', 'data/pca_data1/train\\\\Tony_Blair\\\\00589.png', 'data/pca_data1/train\\\\Tony_Blair\\\\00593.png', 'data/pca_data1/train\\\\Tony_Blair\\\\00612.png', 'data/pca_data1/train\\\\Tony_Blair\\\\00627.png', 'data/pca_data1/train\\\\Tony_Blair\\\\00629.png', 'data/pca_data1/train\\\\Tony_Blair\\\\00647.png', 'data/pca_data1/train\\\\Tony_Blair\\\\00653.png', 'data/pca_data1/train\\\\Tony_Blair\\\\00665.png', 'data/pca_data1/train\\\\Tony_Blair\\\\00695.png', 'data/pca_data1/train\\\\Tony_Blair\\\\00708.png', 'data/pca_data1/train\\\\Tony_Blair\\\\00718.png', 'data/pca_data1/train\\\\Tony_Blair\\\\00720.png', 'data/pca_data1/train\\\\Tony_Blair\\\\00723.png', 'data/pca_data1/train\\\\Tony_Blair\\\\00733.png', 'data/pca_data1/train\\\\Tony_Blair\\\\00736.png', 'data/pca_data1/train\\\\Tony_Blair\\\\00739.png', 'data/pca_data1/train\\\\Tony_Blair\\\\00742.png', 'data/pca_data1/train\\\\Tony_Blair\\\\00755.png', 'data/pca_data1/train\\\\Tony_Blair\\\\00766.png', 'data/pca_data1/train\\\\Tony_Blair\\\\00778.png', 'data/pca_data1/train\\\\Tony_Blair\\\\00780.png', 'data/pca_data1/train\\\\Tony_Blair\\\\00786.png', 'data/pca_data1/train\\\\Tony_Blair\\\\00795.png', 'data/pca_data1/train\\\\Tony_Blair\\\\00806.png', 'data/pca_data1/train\\\\Tony_Blair\\\\00815.png', 'data/pca_data1/train\\\\Tony_Blair\\\\00820.png', 'data/pca_data1/train\\\\Tony_Blair\\\\00823.png', 'data/pca_data1/train\\\\Tony_Blair\\\\00824.png', 'data/pca_data1/train\\\\Tony_Blair\\\\00831.png', 'data/pca_data1/train\\\\Tony_Blair\\\\00837.png', 'data/pca_data1/train\\\\Tony_Blair\\\\00846.png', 'data/pca_data1/train\\\\Tony_Blair\\\\00872.png', 'data/pca_data1/train\\\\Tony_Blair\\\\00896.png', 'data/pca_data1/train\\\\Tony_Blair\\\\00909.png', 'data/pca_data1/train\\\\Tony_Blair\\\\00930.png', 'data/pca_data1/train\\\\Tony_Blair\\\\00934.png', 'data/pca_data1/train\\\\Tony_Blair\\\\00935.png', 'data/pca_data1/train\\\\Tony_Blair\\\\00952.png', 'data/pca_data1/train\\\\Tony_Blair\\\\00955.png', 'data/pca_data1/train\\\\Tony_Blair\\\\00957.png', 'data/pca_data1/train\\\\Tony_Blair\\\\00960.png', 'data/pca_data1/train\\\\Tony_Blair\\\\00962.png']\n"
     ]
    }
   ],
   "source": [
    "# 훈련데이터셋 경로 설정 \n",
    "train_dataset_dir = 'data/pca_data1/test/'\n",
    "# 테스트 데이터셋 경로 설정 \n",
    "test_dataset_dir = 'data/pca_data1/train/'\n",
    "# 훈련 데이터 추출\n",
    "train_data = sorted(glob(join(train_dataset_dir, '*/*.png')))\n",
    "print(train_data)\n",
    "# 테스트 데이터 추출\n",
    "test_data = sorted(glob(join(test_dataset_dir, '*/*.png')))\n",
    "print(test_data)\n"
   ]
  },
  {
   "cell_type": "code",
   "execution_count": 7,
   "metadata": {},
   "outputs": [
    {
     "name": "stdout",
     "output_type": "stream",
     "text": [
      "322 966\n"
     ]
    }
   ],
   "source": [
    "print(len(train_data), len(test_data))\n",
    "# 훈련 데이터 개수 : 322개 test data개수 : 966개\n"
   ]
  },
  {
   "cell_type": "code",
   "execution_count": 10,
   "metadata": {},
   "outputs": [],
   "source": [
    "# matplolib 설정해주기 \n",
    "plt.rcParams['axes.unicode_minus']\n",
    "matplotlib.rc('font', family = 'AppleGothic')"
   ]
  },
  {
   "cell_type": "code",
   "execution_count": 16,
   "metadata": {},
   "outputs": [
    {
     "data": {
      "application/vnd.jupyter.widget-view+json": {
       "model_id": "1efc04e75f9848839ce723cde8d59923",
       "version_major": 2,
       "version_minor": 0
      },
      "text/plain": [
       "  0%|          | 0/322 [00:00<?, ?it/s]"
      ]
     },
     "metadata": {},
     "output_type": "display_data"
    },
    {
     "name": "stdout",
     "output_type": "stream",
     "text": [
      "(322, 50, 37, 3)\n"
     ]
    }
   ],
   "source": [
    "# train 이미지 데이터 전체를 로딩하기 \n",
    "list_data = []\n",
    "for i in tqdm(train_data):\n",
    "    list_data.append(cv2.imread(i ,1))\n",
    "np_imgs = np.array(list_data)\n",
    "print(np_imgs.shape)"
   ]
  },
  {
   "cell_type": "code",
   "execution_count": 19,
   "metadata": {},
   "outputs": [],
   "source": [
    "def show(img_bgr) :\n",
    "    plt.imshow(cv2.cvtColor(img_bgr, cv2.COLOR_BAYER_BG2RGB))\n",
    "    plt.show()"
   ]
  },
  {
   "cell_type": "code",
   "execution_count": 20,
   "metadata": {},
   "outputs": [
    {
     "ename": "error",
     "evalue": "OpenCV(4.7.0) D:\\a\\opencv-python\\opencv-python\\opencv\\modules\\imgproc\\src\\demosaicing.cpp:1721: error: (-215:Assertion failed) scn == 1 && (dcn == 3 || dcn == 4) in function 'cv::demosaicing'\n",
     "output_type": "error",
     "traceback": [
      "\u001b[1;31m---------------------------------------------------------------------------\u001b[0m",
      "\u001b[1;31merror\u001b[0m                                     Traceback (most recent call last)",
      "Cell \u001b[1;32mIn[20], line 1\u001b[0m\n\u001b[1;32m----> 1\u001b[0m show(list_data[\u001b[39m0\u001b[39;49m])\n",
      "Cell \u001b[1;32mIn[19], line 2\u001b[0m, in \u001b[0;36mshow\u001b[1;34m(img_bgr)\u001b[0m\n\u001b[0;32m      1\u001b[0m \u001b[39mdef\u001b[39;00m \u001b[39mshow\u001b[39m(img_bgr) :\n\u001b[1;32m----> 2\u001b[0m     plt\u001b[39m.\u001b[39mimshow(cv2\u001b[39m.\u001b[39;49mcvtColor(img_bgr, cv2\u001b[39m.\u001b[39;49mCOLOR_BAYER_BG2RGB))\n\u001b[0;32m      3\u001b[0m     plt\u001b[39m.\u001b[39mshow()\n",
      "\u001b[1;31merror\u001b[0m: OpenCV(4.7.0) D:\\a\\opencv-python\\opencv-python\\opencv\\modules\\imgproc\\src\\demosaicing.cpp:1721: error: (-215:Assertion failed) scn == 1 && (dcn == 3 || dcn == 4) in function 'cv::demosaicing'\n"
     ]
    }
   ],
   "source": [
    "show(list_data[0])"
   ]
  },
  {
   "cell_type": "markdown",
   "metadata": {},
   "source": [
    "# 이미지 데이터 전처리 준비하기 "
   ]
  },
  {
   "cell_type": "code",
   "execution_count": 13,
   "metadata": {},
   "outputs": [],
   "source": [
    "import torch\n",
    "import torchvision\n",
    "import torchvision.transforms as transforms\n",
    "import torchvision.models as models\n",
    "import torch.nn as nn\n",
    "import torch.optim as optim \n",
    "from torch.utils.data import dataloader\n",
    "import matplotlib.pyplot as plt"
   ]
  },
  {
   "cell_type": "code",
   "execution_count": 21,
   "metadata": {},
   "outputs": [],
   "source": [
    "import time\n",
    "import copy\n",
    "import glob\n",
    "import cv2\n",
    "import shutil"
   ]
  },
  {
   "attachments": {},
   "cell_type": "markdown",
   "metadata": {},
   "source": [
    "이미지 데이터 전처리 방식 정의하기 "
   ]
  },
  {
   "cell_type": "code",
   "execution_count": 23,
   "metadata": {},
   "outputs": [],
   "source": [
    "transform = transforms.Compose(\n",
    "    [\n",
    "        transforms.Resize([256,256]),\n",
    "        transforms.RandomResizedCrop(224),\n",
    "        transforms.RandomHorizontalFlip(),\n",
    "        transforms.ToTensor()\n",
    "    ]\n",
    ")"
   ]
  },
  {
   "cell_type": "code",
   "execution_count": 26,
   "metadata": {},
   "outputs": [],
   "source": [
    "train_dataset = torchvision.datasets.ImageFolder(\n",
    "    train_dataset_dir, \n",
    "    transform = transform\n",
    ")"
   ]
  },
  {
   "cell_type": "code",
   "execution_count": 28,
   "metadata": {},
   "outputs": [
    {
     "name": "stdout",
     "output_type": "stream",
     "text": [
      "322\n"
     ]
    },
    {
     "name": "stderr",
     "output_type": "stream",
     "text": [
      "C:\\Users\\trixy\\AppData\\Roaming\\Python\\Python310\\site-packages\\torch\\utils\\data\\dataloader.py:561: UserWarning: This DataLoader will create 8 worker processes in total. Our suggested max number of worker in current system is 4 (`cpuset` is not taken into account), which is smaller than what this DataLoader is going to create. Please be aware that excessive worker creation might get DataLoader running slow or even freeze, lower the worker number to avoid potential slowness/freeze if necessary.\n",
      "  warnings.warn(_create_warning_msg(\n"
     ]
    }
   ],
   "source": [
    "train_loader = torch.utils.data.DataLoader(\n",
    "    train_dataset,\n",
    "    batch_size = 128,\n",
    "    num_workers = 8,\n",
    "    shuffle = True,\n",
    ")\n",
    "\n",
    "print(len(train_dataset))"
   ]
  },
  {
   "attachments": {},
   "cell_type": "markdown",
   "metadata": {},
   "source": [
    "데이터 행렬 형태로 바꿔주기"
   ]
  },
  {
   "cell_type": "code",
   "execution_count": 30,
   "metadata": {},
   "outputs": [
    {
     "name": "stderr",
     "output_type": "stream",
     "text": [
      "C:\\Users\\trixy\\AppData\\Roaming\\Python\\Python310\\site-packages\\torch\\utils\\data\\dataloader.py:561: UserWarning: This DataLoader will create 8 worker processes in total. Our suggested max number of worker in current system is 4 (`cpuset` is not taken into account), which is smaller than what this DataLoader is going to create. Please be aware that excessive worker creation might get DataLoader running slow or even freeze, lower the worker number to avoid potential slowness/freeze if necessary.\n",
      "  warnings.warn(_create_warning_msg(\n"
     ]
    }
   ],
   "source": [
    "labels, _ = next(iter(train_loader))\n",
    "classes = {0:'Ariel_Sharon', 1:'Colin_Powell', 2:'Donald_Rumsfeld', 2:'George_W_Bush', 3 : 'Gerhard_Shcroeder', 4:'Hugo_Chavez', 5:'Tony_Blair'}\n",
    "fig = plt.figure(figsize = (16,24))\n"
   ]
  },
  {
   "cell_type": "code",
   "execution_count": null,
   "metadata": {},
   "outputs": [],
   "source": []
  }
 ],
 "metadata": {
  "kernelspec": {
   "display_name": "conda",
   "language": "python",
   "name": "conda"
  },
  "language_info": {
   "codemirror_mode": {
    "name": "ipython",
    "version": 3
   },
   "file_extension": ".py",
   "mimetype": "text/x-python",
   "name": "python",
   "nbconvert_exporter": "python",
   "pygments_lexer": "ipython3",
   "version": "3.10.2"
  },
  "orig_nbformat": 4
 },
 "nbformat": 4,
 "nbformat_minor": 2
}
